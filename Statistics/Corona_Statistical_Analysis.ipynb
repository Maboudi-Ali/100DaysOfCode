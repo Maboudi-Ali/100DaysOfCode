{
 "cells": [
  {
   "cell_type": "code",
   "execution_count": 1,
   "metadata": {},
   "outputs": [],
   "source": [
    "import pandas as pd\n",
    "import numpy as np\n",
    "import matplotlib.pyplot as plt\n",
    "from scipy import stats\n",
    "import seaborn as sns"
   ]
  },
  {
   "cell_type": "code",
   "execution_count": 2,
   "metadata": {},
   "outputs": [],
   "source": [
    "data = pd.read_csv('Data/Datasets/Corona_Updated.csv')"
   ]
  },
  {
   "cell_type": "markdown",
   "metadata": {},
   "source": [
    "## EDA"
   ]
  },
  {
   "cell_type": "code",
   "execution_count": 3,
   "metadata": {},
   "outputs": [
    {
     "data": {
      "text/html": [
       "<div>\n",
       "<style scoped>\n",
       "    .dataframe tbody tr th:only-of-type {\n",
       "        vertical-align: middle;\n",
       "    }\n",
       "\n",
       "    .dataframe tbody tr th {\n",
       "        vertical-align: top;\n",
       "    }\n",
       "\n",
       "    .dataframe thead th {\n",
       "        text-align: right;\n",
       "    }\n",
       "</style>\n",
       "<table border=\"1\" class=\"dataframe\">\n",
       "  <thead>\n",
       "    <tr style=\"text-align: right;\">\n",
       "      <th></th>\n",
       "      <th>Province/State</th>\n",
       "      <th>Country/Region</th>\n",
       "      <th>Last Update</th>\n",
       "      <th>Confirmed</th>\n",
       "      <th>Deaths</th>\n",
       "      <th>Recovered</th>\n",
       "      <th>Latitude</th>\n",
       "      <th>Longitude</th>\n",
       "      <th>Temprature</th>\n",
       "      <th>Humidity</th>\n",
       "      <th>Temp_Cat</th>\n",
       "      <th>Humid_Cat</th>\n",
       "    </tr>\n",
       "  </thead>\n",
       "  <tbody>\n",
       "    <tr>\n",
       "      <th>0</th>\n",
       "      <td>Hubei</td>\n",
       "      <td>Mainland China</td>\n",
       "      <td>2020-03-10T15:13:05</td>\n",
       "      <td>67760</td>\n",
       "      <td>3024</td>\n",
       "      <td>47743</td>\n",
       "      <td>30.9756</td>\n",
       "      <td>112.2707</td>\n",
       "      <td>12.5</td>\n",
       "      <td>86</td>\n",
       "      <td>1</td>\n",
       "      <td>1</td>\n",
       "    </tr>\n",
       "    <tr>\n",
       "      <th>1</th>\n",
       "      <td>NaN</td>\n",
       "      <td>Italy</td>\n",
       "      <td>2020-03-10T17:53:02</td>\n",
       "      <td>10149</td>\n",
       "      <td>631</td>\n",
       "      <td>724</td>\n",
       "      <td>43.0000</td>\n",
       "      <td>12.0000</td>\n",
       "      <td>12.9</td>\n",
       "      <td>64</td>\n",
       "      <td>1</td>\n",
       "      <td>1</td>\n",
       "    </tr>\n",
       "    <tr>\n",
       "      <th>2</th>\n",
       "      <td>NaN</td>\n",
       "      <td>Iran (Islamic Republic of)</td>\n",
       "      <td>2020-03-10T19:13:20</td>\n",
       "      <td>8042</td>\n",
       "      <td>291</td>\n",
       "      <td>2731</td>\n",
       "      <td>32.0000</td>\n",
       "      <td>53.0000</td>\n",
       "      <td>11.9</td>\n",
       "      <td>9</td>\n",
       "      <td>0</td>\n",
       "      <td>0</td>\n",
       "    </tr>\n",
       "    <tr>\n",
       "      <th>3</th>\n",
       "      <td>NaN</td>\n",
       "      <td>Republic of Korea</td>\n",
       "      <td>2020-03-10T19:13:20</td>\n",
       "      <td>7513</td>\n",
       "      <td>54</td>\n",
       "      <td>247</td>\n",
       "      <td>36.0000</td>\n",
       "      <td>128.0000</td>\n",
       "      <td>4.9</td>\n",
       "      <td>41</td>\n",
       "      <td>0</td>\n",
       "      <td>0</td>\n",
       "    </tr>\n",
       "    <tr>\n",
       "      <th>4</th>\n",
       "      <td>NaN</td>\n",
       "      <td>France</td>\n",
       "      <td>2020-03-10T18:53:02</td>\n",
       "      <td>1784</td>\n",
       "      <td>33</td>\n",
       "      <td>12</td>\n",
       "      <td>47.0000</td>\n",
       "      <td>2.0000</td>\n",
       "      <td>11.9</td>\n",
       "      <td>93</td>\n",
       "      <td>0</td>\n",
       "      <td>0</td>\n",
       "    </tr>\n",
       "  </tbody>\n",
       "</table>\n",
       "</div>"
      ],
      "text/plain": [
       "  Province/State              Country/Region          Last Update  Confirmed  \\\n",
       "0          Hubei              Mainland China  2020-03-10T15:13:05      67760   \n",
       "1            NaN                       Italy  2020-03-10T17:53:02      10149   \n",
       "2            NaN  Iran (Islamic Republic of)  2020-03-10T19:13:20       8042   \n",
       "3            NaN           Republic of Korea  2020-03-10T19:13:20       7513   \n",
       "4            NaN                      France  2020-03-10T18:53:02       1784   \n",
       "\n",
       "   Deaths  Recovered  Latitude  Longitude  Temprature  Humidity  Temp_Cat  \\\n",
       "0    3024      47743   30.9756   112.2707        12.5        86         1   \n",
       "1     631        724   43.0000    12.0000        12.9        64         1   \n",
       "2     291       2731   32.0000    53.0000        11.9         9         0   \n",
       "3      54        247   36.0000   128.0000         4.9        41         0   \n",
       "4      33         12   47.0000     2.0000        11.9        93         0   \n",
       "\n",
       "   Humid_Cat  \n",
       "0          1  \n",
       "1          1  \n",
       "2          0  \n",
       "3          0  \n",
       "4          0  "
      ]
     },
     "execution_count": 3,
     "metadata": {},
     "output_type": "execute_result"
    }
   ],
   "source": [
    "data.head()"
   ]
  },
  {
   "cell_type": "code",
   "execution_count": 4,
   "metadata": {},
   "outputs": [
    {
     "name": "stdout",
     "output_type": "stream",
     "text": [
      "<class 'pandas.core.frame.DataFrame'>\n",
      "RangeIndex: 206 entries, 0 to 205\n",
      "Data columns (total 12 columns):\n",
      " #   Column          Non-Null Count  Dtype  \n",
      "---  ------          --------------  -----  \n",
      " 0   Province/State  99 non-null     object \n",
      " 1   Country/Region  206 non-null    object \n",
      " 2   Last Update     206 non-null    object \n",
      " 3   Confirmed       206 non-null    int64  \n",
      " 4   Deaths          206 non-null    int64  \n",
      " 5   Recovered       206 non-null    int64  \n",
      " 6   Latitude        206 non-null    float64\n",
      " 7   Longitude       206 non-null    float64\n",
      " 8   Temprature      206 non-null    float64\n",
      " 9   Humidity        206 non-null    int64  \n",
      " 10  Temp_Cat        206 non-null    int64  \n",
      " 11  Humid_Cat       206 non-null    int64  \n",
      "dtypes: float64(3), int64(6), object(3)\n",
      "memory usage: 19.4+ KB\n"
     ]
    }
   ],
   "source": [
    "data.info()"
   ]
  },
  {
   "cell_type": "code",
   "execution_count": 5,
   "metadata": {},
   "outputs": [
    {
     "data": {
      "text/plain": [
       "Province/State     99\n",
       "Country/Region    115\n",
       "Last Update       101\n",
       "Confirmed          93\n",
       "Deaths             18\n",
       "Recovered          52\n",
       "Latitude          201\n",
       "Longitude         204\n",
       "Temprature        161\n",
       "Humidity           69\n",
       "Temp_Cat            2\n",
       "Humid_Cat           2\n",
       "dtype: int64"
      ]
     },
     "execution_count": 5,
     "metadata": {},
     "output_type": "execute_result"
    }
   ],
   "source": [
    "data.nunique()"
   ]
  },
  {
   "cell_type": "code",
   "execution_count": 6,
   "metadata": {},
   "outputs": [
    {
     "data": {
      "text/html": [
       "<div>\n",
       "<style scoped>\n",
       "    .dataframe tbody tr th:only-of-type {\n",
       "        vertical-align: middle;\n",
       "    }\n",
       "\n",
       "    .dataframe tbody tr th {\n",
       "        vertical-align: top;\n",
       "    }\n",
       "\n",
       "    .dataframe thead th {\n",
       "        text-align: right;\n",
       "    }\n",
       "</style>\n",
       "<table border=\"1\" class=\"dataframe\">\n",
       "  <thead>\n",
       "    <tr style=\"text-align: right;\">\n",
       "      <th></th>\n",
       "      <th>Province/State</th>\n",
       "      <th>Country/Region</th>\n",
       "      <th>Last Update</th>\n",
       "      <th>Confirmed</th>\n",
       "      <th>Deaths</th>\n",
       "      <th>Recovered</th>\n",
       "      <th>Latitude</th>\n",
       "      <th>Longitude</th>\n",
       "      <th>Temprature</th>\n",
       "      <th>Humidity</th>\n",
       "      <th>Temp_Cat</th>\n",
       "      <th>Humid_Cat</th>\n",
       "    </tr>\n",
       "  </thead>\n",
       "  <tbody>\n",
       "    <tr>\n",
       "      <th>7</th>\n",
       "      <td>Guangdong</td>\n",
       "      <td>Mainland China</td>\n",
       "      <td>2020-03-10T09:13:07</td>\n",
       "      <td>1353</td>\n",
       "      <td>8</td>\n",
       "      <td>1274</td>\n",
       "      <td>23.3417</td>\n",
       "      <td>113.4244</td>\n",
       "      <td>20.9</td>\n",
       "      <td>79</td>\n",
       "      <td>1</td>\n",
       "      <td>1</td>\n",
       "    </tr>\n",
       "    <tr>\n",
       "      <th>8</th>\n",
       "      <td>Henan</td>\n",
       "      <td>Mainland China</td>\n",
       "      <td>2020-03-08T05:03:02</td>\n",
       "      <td>1272</td>\n",
       "      <td>22</td>\n",
       "      <td>1247</td>\n",
       "      <td>33.8820</td>\n",
       "      <td>113.6140</td>\n",
       "      <td>14.7</td>\n",
       "      <td>59</td>\n",
       "      <td>1</td>\n",
       "      <td>1</td>\n",
       "    </tr>\n",
       "    <tr>\n",
       "      <th>9</th>\n",
       "      <td>Zhejiang</td>\n",
       "      <td>Mainland China</td>\n",
       "      <td>2020-03-10T10:33:02</td>\n",
       "      <td>1215</td>\n",
       "      <td>1</td>\n",
       "      <td>1191</td>\n",
       "      <td>29.1832</td>\n",
       "      <td>120.0934</td>\n",
       "      <td>11.0</td>\n",
       "      <td>89</td>\n",
       "      <td>0</td>\n",
       "      <td>0</td>\n",
       "    </tr>\n",
       "    <tr>\n",
       "      <th>10</th>\n",
       "      <td>Hunan</td>\n",
       "      <td>Mainland China</td>\n",
       "      <td>2020-03-10T08:33:02</td>\n",
       "      <td>1018</td>\n",
       "      <td>4</td>\n",
       "      <td>990</td>\n",
       "      <td>27.6104</td>\n",
       "      <td>111.7088</td>\n",
       "      <td>12.0</td>\n",
       "      <td>97</td>\n",
       "      <td>0</td>\n",
       "      <td>0</td>\n",
       "    </tr>\n",
       "    <tr>\n",
       "      <th>11</th>\n",
       "      <td>Anhui</td>\n",
       "      <td>Mainland China</td>\n",
       "      <td>2020-03-08T05:13:06</td>\n",
       "      <td>990</td>\n",
       "      <td>6</td>\n",
       "      <td>984</td>\n",
       "      <td>31.8257</td>\n",
       "      <td>117.2264</td>\n",
       "      <td>13.2</td>\n",
       "      <td>70</td>\n",
       "      <td>1</td>\n",
       "      <td>1</td>\n",
       "    </tr>\n",
       "    <tr>\n",
       "      <th>...</th>\n",
       "      <td>...</td>\n",
       "      <td>...</td>\n",
       "      <td>...</td>\n",
       "      <td>...</td>\n",
       "      <td>...</td>\n",
       "      <td>...</td>\n",
       "      <td>...</td>\n",
       "      <td>...</td>\n",
       "      <td>...</td>\n",
       "      <td>...</td>\n",
       "      <td>...</td>\n",
       "      <td>...</td>\n",
       "    </tr>\n",
       "    <tr>\n",
       "      <th>201</th>\n",
       "      <td>New Mexico</td>\n",
       "      <td>US</td>\n",
       "      <td>2020-03-10T02:33:04</td>\n",
       "      <td>0</td>\n",
       "      <td>0</td>\n",
       "      <td>0</td>\n",
       "      <td>34.8405</td>\n",
       "      <td>-106.2485</td>\n",
       "      <td>10.0</td>\n",
       "      <td>75</td>\n",
       "      <td>0</td>\n",
       "      <td>0</td>\n",
       "    </tr>\n",
       "    <tr>\n",
       "      <th>202</th>\n",
       "      <td>North Dakota</td>\n",
       "      <td>US</td>\n",
       "      <td>2020-03-10T02:33:04</td>\n",
       "      <td>0</td>\n",
       "      <td>0</td>\n",
       "      <td>0</td>\n",
       "      <td>47.5289</td>\n",
       "      <td>-99.7840</td>\n",
       "      <td>2.7</td>\n",
       "      <td>89</td>\n",
       "      <td>0</td>\n",
       "      <td>0</td>\n",
       "    </tr>\n",
       "    <tr>\n",
       "      <th>203</th>\n",
       "      <td>South Dakota</td>\n",
       "      <td>US</td>\n",
       "      <td>2020-03-10T02:33:04</td>\n",
       "      <td>0</td>\n",
       "      <td>0</td>\n",
       "      <td>0</td>\n",
       "      <td>44.2998</td>\n",
       "      <td>-99.4388</td>\n",
       "      <td>5.9</td>\n",
       "      <td>69</td>\n",
       "      <td>0</td>\n",
       "      <td>0</td>\n",
       "    </tr>\n",
       "    <tr>\n",
       "      <th>204</th>\n",
       "      <td>West Virginia</td>\n",
       "      <td>US</td>\n",
       "      <td>2020-03-10T02:33:04</td>\n",
       "      <td>0</td>\n",
       "      <td>0</td>\n",
       "      <td>0</td>\n",
       "      <td>38.4912</td>\n",
       "      <td>-80.9545</td>\n",
       "      <td>10.6</td>\n",
       "      <td>96</td>\n",
       "      <td>0</td>\n",
       "      <td>0</td>\n",
       "    </tr>\n",
       "    <tr>\n",
       "      <th>205</th>\n",
       "      <td>Wyoming</td>\n",
       "      <td>US</td>\n",
       "      <td>2020-03-10T02:33:04</td>\n",
       "      <td>0</td>\n",
       "      <td>0</td>\n",
       "      <td>0</td>\n",
       "      <td>42.7560</td>\n",
       "      <td>-107.3025</td>\n",
       "      <td>-2.7</td>\n",
       "      <td>91</td>\n",
       "      <td>0</td>\n",
       "      <td>0</td>\n",
       "    </tr>\n",
       "  </tbody>\n",
       "</table>\n",
       "<p>91 rows × 12 columns</p>\n",
       "</div>"
      ],
      "text/plain": [
       "    Province/State  Country/Region          Last Update  Confirmed  Deaths  \\\n",
       "7        Guangdong  Mainland China  2020-03-10T09:13:07       1353       8   \n",
       "8            Henan  Mainland China  2020-03-08T05:03:02       1272      22   \n",
       "9         Zhejiang  Mainland China  2020-03-10T10:33:02       1215       1   \n",
       "10           Hunan  Mainland China  2020-03-10T08:33:02       1018       4   \n",
       "11           Anhui  Mainland China  2020-03-08T05:13:06        990       6   \n",
       "..             ...             ...                  ...        ...     ...   \n",
       "201     New Mexico              US  2020-03-10T02:33:04          0       0   \n",
       "202   North Dakota              US  2020-03-10T02:33:04          0       0   \n",
       "203   South Dakota              US  2020-03-10T02:33:04          0       0   \n",
       "204  West Virginia              US  2020-03-10T02:33:04          0       0   \n",
       "205        Wyoming              US  2020-03-10T02:33:04          0       0   \n",
       "\n",
       "     Recovered  Latitude  Longitude  Temprature  Humidity  Temp_Cat  Humid_Cat  \n",
       "7         1274   23.3417   113.4244        20.9        79         1          1  \n",
       "8         1247   33.8820   113.6140        14.7        59         1          1  \n",
       "9         1191   29.1832   120.0934        11.0        89         0          0  \n",
       "10         990   27.6104   111.7088        12.0        97         0          0  \n",
       "11         984   31.8257   117.2264        13.2        70         1          1  \n",
       "..         ...       ...        ...         ...       ...       ...        ...  \n",
       "201          0   34.8405  -106.2485        10.0        75         0          0  \n",
       "202          0   47.5289   -99.7840         2.7        89         0          0  \n",
       "203          0   44.2998   -99.4388         5.9        69         0          0  \n",
       "204          0   38.4912   -80.9545        10.6        96         0          0  \n",
       "205          0   42.7560  -107.3025        -2.7        91         0          0  \n",
       "\n",
       "[91 rows x 12 columns]"
      ]
     },
     "execution_count": 6,
     "metadata": {},
     "output_type": "execute_result"
    }
   ],
   "source": [
    "data[data['Country/Region'].duplicated()]"
   ]
  },
  {
   "cell_type": "code",
   "execution_count": 8,
   "metadata": {},
   "outputs": [
    {
     "data": {
      "text/plain": [
       "array(['Mainland China', 'US', 'Canada', 'Australia'], dtype=object)"
      ]
     },
     "execution_count": 8,
     "metadata": {},
     "output_type": "execute_result"
    }
   ],
   "source": [
    "data[data['Country/Region'].duplicated()]['Country/Region'].unique()"
   ]
  },
  {
   "cell_type": "code",
   "execution_count": 12,
   "metadata": {},
   "outputs": [
    {
     "data": {
      "text/plain": [
       "US                51\n",
       "Mainland China    30\n",
       "Australia          7\n",
       "Canada             3\n",
       "Name: Country/Region, dtype: int64"
      ]
     },
     "execution_count": 12,
     "metadata": {},
     "output_type": "execute_result"
    }
   ],
   "source": [
    "data[data['Country/Region'].duplicated()]['Country/Region'].value_counts()"
   ]
  },
  {
   "cell_type": "code",
   "execution_count": 16,
   "metadata": {},
   "outputs": [
    {
     "data": {
      "text/html": [
       "<div>\n",
       "<style scoped>\n",
       "    .dataframe tbody tr th:only-of-type {\n",
       "        vertical-align: middle;\n",
       "    }\n",
       "\n",
       "    .dataframe tbody tr th {\n",
       "        vertical-align: top;\n",
       "    }\n",
       "\n",
       "    .dataframe thead th {\n",
       "        text-align: right;\n",
       "    }\n",
       "</style>\n",
       "<table border=\"1\" class=\"dataframe\">\n",
       "  <thead>\n",
       "    <tr style=\"text-align: right;\">\n",
       "      <th></th>\n",
       "      <th>Province/State</th>\n",
       "      <th>Country/Region</th>\n",
       "      <th>Last Update</th>\n",
       "      <th>Confirmed</th>\n",
       "      <th>Deaths</th>\n",
       "      <th>Recovered</th>\n",
       "      <th>Latitude</th>\n",
       "      <th>Longitude</th>\n",
       "      <th>Temprature</th>\n",
       "      <th>Humidity</th>\n",
       "      <th>Temp_Cat</th>\n",
       "      <th>Humid_Cat</th>\n",
       "      <th>location</th>\n",
       "    </tr>\n",
       "  </thead>\n",
       "  <tbody>\n",
       "    <tr>\n",
       "      <th>0</th>\n",
       "      <td>Hubei</td>\n",
       "      <td>Mainland China</td>\n",
       "      <td>2020-03-10T15:13:05</td>\n",
       "      <td>67760</td>\n",
       "      <td>3024</td>\n",
       "      <td>47743</td>\n",
       "      <td>30.9756</td>\n",
       "      <td>112.2707</td>\n",
       "      <td>12.5</td>\n",
       "      <td>86</td>\n",
       "      <td>1</td>\n",
       "      <td>1</td>\n",
       "      <td>Mainland China-Hubei</td>\n",
       "    </tr>\n",
       "    <tr>\n",
       "      <th>1</th>\n",
       "      <td>NaN</td>\n",
       "      <td>Italy</td>\n",
       "      <td>2020-03-10T17:53:02</td>\n",
       "      <td>10149</td>\n",
       "      <td>631</td>\n",
       "      <td>724</td>\n",
       "      <td>43.0000</td>\n",
       "      <td>12.0000</td>\n",
       "      <td>12.9</td>\n",
       "      <td>64</td>\n",
       "      <td>1</td>\n",
       "      <td>1</td>\n",
       "      <td>Italy-</td>\n",
       "    </tr>\n",
       "    <tr>\n",
       "      <th>2</th>\n",
       "      <td>NaN</td>\n",
       "      <td>Iran (Islamic Republic of)</td>\n",
       "      <td>2020-03-10T19:13:20</td>\n",
       "      <td>8042</td>\n",
       "      <td>291</td>\n",
       "      <td>2731</td>\n",
       "      <td>32.0000</td>\n",
       "      <td>53.0000</td>\n",
       "      <td>11.9</td>\n",
       "      <td>9</td>\n",
       "      <td>0</td>\n",
       "      <td>0</td>\n",
       "      <td>Iran (Islamic Republic of)-</td>\n",
       "    </tr>\n",
       "    <tr>\n",
       "      <th>3</th>\n",
       "      <td>NaN</td>\n",
       "      <td>Republic of Korea</td>\n",
       "      <td>2020-03-10T19:13:20</td>\n",
       "      <td>7513</td>\n",
       "      <td>54</td>\n",
       "      <td>247</td>\n",
       "      <td>36.0000</td>\n",
       "      <td>128.0000</td>\n",
       "      <td>4.9</td>\n",
       "      <td>41</td>\n",
       "      <td>0</td>\n",
       "      <td>0</td>\n",
       "      <td>Republic of Korea-</td>\n",
       "    </tr>\n",
       "    <tr>\n",
       "      <th>4</th>\n",
       "      <td>NaN</td>\n",
       "      <td>France</td>\n",
       "      <td>2020-03-10T18:53:02</td>\n",
       "      <td>1784</td>\n",
       "      <td>33</td>\n",
       "      <td>12</td>\n",
       "      <td>47.0000</td>\n",
       "      <td>2.0000</td>\n",
       "      <td>11.9</td>\n",
       "      <td>93</td>\n",
       "      <td>0</td>\n",
       "      <td>0</td>\n",
       "      <td>France-</td>\n",
       "    </tr>\n",
       "  </tbody>\n",
       "</table>\n",
       "</div>"
      ],
      "text/plain": [
       "  Province/State              Country/Region          Last Update  Confirmed  \\\n",
       "0          Hubei              Mainland China  2020-03-10T15:13:05      67760   \n",
       "1            NaN                       Italy  2020-03-10T17:53:02      10149   \n",
       "2            NaN  Iran (Islamic Republic of)  2020-03-10T19:13:20       8042   \n",
       "3            NaN           Republic of Korea  2020-03-10T19:13:20       7513   \n",
       "4            NaN                      France  2020-03-10T18:53:02       1784   \n",
       "\n",
       "   Deaths  Recovered  Latitude  Longitude  Temprature  Humidity  Temp_Cat  \\\n",
       "0    3024      47743   30.9756   112.2707        12.5        86         1   \n",
       "1     631        724   43.0000    12.0000        12.9        64         1   \n",
       "2     291       2731   32.0000    53.0000        11.9         9         0   \n",
       "3      54        247   36.0000   128.0000         4.9        41         0   \n",
       "4      33         12   47.0000     2.0000        11.9        93         0   \n",
       "\n",
       "   Humid_Cat                     location  \n",
       "0          1         Mainland China-Hubei  \n",
       "1          1                       Italy-  \n",
       "2          0  Iran (Islamic Republic of)-  \n",
       "3          0           Republic of Korea-  \n",
       "4          0                      France-  "
      ]
     },
     "execution_count": 16,
     "metadata": {},
     "output_type": "execute_result"
    }
   ],
   "source": [
    "data['location'] = data['Country/Region'] + '-' + data['Province/State'].fillna('')\n",
    "data.head()"
   ]
  },
  {
   "cell_type": "code",
   "execution_count": 18,
   "metadata": {},
   "outputs": [],
   "source": [
    "data.drop(columns=['Province/State', 'Country/Region'], inplace=True)"
   ]
  },
  {
   "cell_type": "code",
   "execution_count": 19,
   "metadata": {},
   "outputs": [
    {
     "data": {
      "text/html": [
       "<div>\n",
       "<style scoped>\n",
       "    .dataframe tbody tr th:only-of-type {\n",
       "        vertical-align: middle;\n",
       "    }\n",
       "\n",
       "    .dataframe tbody tr th {\n",
       "        vertical-align: top;\n",
       "    }\n",
       "\n",
       "    .dataframe thead th {\n",
       "        text-align: right;\n",
       "    }\n",
       "</style>\n",
       "<table border=\"1\" class=\"dataframe\">\n",
       "  <thead>\n",
       "    <tr style=\"text-align: right;\">\n",
       "      <th></th>\n",
       "      <th>Last Update</th>\n",
       "      <th>Confirmed</th>\n",
       "      <th>Deaths</th>\n",
       "      <th>Recovered</th>\n",
       "      <th>Latitude</th>\n",
       "      <th>Longitude</th>\n",
       "      <th>Temprature</th>\n",
       "      <th>Humidity</th>\n",
       "      <th>Temp_Cat</th>\n",
       "      <th>Humid_Cat</th>\n",
       "      <th>location</th>\n",
       "    </tr>\n",
       "  </thead>\n",
       "  <tbody>\n",
       "    <tr>\n",
       "      <th>0</th>\n",
       "      <td>2020-03-10T15:13:05</td>\n",
       "      <td>67760</td>\n",
       "      <td>3024</td>\n",
       "      <td>47743</td>\n",
       "      <td>30.9756</td>\n",
       "      <td>112.2707</td>\n",
       "      <td>12.5</td>\n",
       "      <td>86</td>\n",
       "      <td>1</td>\n",
       "      <td>1</td>\n",
       "      <td>Mainland China-Hubei</td>\n",
       "    </tr>\n",
       "    <tr>\n",
       "      <th>1</th>\n",
       "      <td>2020-03-10T17:53:02</td>\n",
       "      <td>10149</td>\n",
       "      <td>631</td>\n",
       "      <td>724</td>\n",
       "      <td>43.0000</td>\n",
       "      <td>12.0000</td>\n",
       "      <td>12.9</td>\n",
       "      <td>64</td>\n",
       "      <td>1</td>\n",
       "      <td>1</td>\n",
       "      <td>Italy-</td>\n",
       "    </tr>\n",
       "    <tr>\n",
       "      <th>2</th>\n",
       "      <td>2020-03-10T19:13:20</td>\n",
       "      <td>8042</td>\n",
       "      <td>291</td>\n",
       "      <td>2731</td>\n",
       "      <td>32.0000</td>\n",
       "      <td>53.0000</td>\n",
       "      <td>11.9</td>\n",
       "      <td>9</td>\n",
       "      <td>0</td>\n",
       "      <td>0</td>\n",
       "      <td>Iran (Islamic Republic of)-</td>\n",
       "    </tr>\n",
       "    <tr>\n",
       "      <th>3</th>\n",
       "      <td>2020-03-10T19:13:20</td>\n",
       "      <td>7513</td>\n",
       "      <td>54</td>\n",
       "      <td>247</td>\n",
       "      <td>36.0000</td>\n",
       "      <td>128.0000</td>\n",
       "      <td>4.9</td>\n",
       "      <td>41</td>\n",
       "      <td>0</td>\n",
       "      <td>0</td>\n",
       "      <td>Republic of Korea-</td>\n",
       "    </tr>\n",
       "    <tr>\n",
       "      <th>4</th>\n",
       "      <td>2020-03-10T18:53:02</td>\n",
       "      <td>1784</td>\n",
       "      <td>33</td>\n",
       "      <td>12</td>\n",
       "      <td>47.0000</td>\n",
       "      <td>2.0000</td>\n",
       "      <td>11.9</td>\n",
       "      <td>93</td>\n",
       "      <td>0</td>\n",
       "      <td>0</td>\n",
       "      <td>France-</td>\n",
       "    </tr>\n",
       "  </tbody>\n",
       "</table>\n",
       "</div>"
      ],
      "text/plain": [
       "           Last Update  Confirmed  Deaths  Recovered  Latitude  Longitude  \\\n",
       "0  2020-03-10T15:13:05      67760    3024      47743   30.9756   112.2707   \n",
       "1  2020-03-10T17:53:02      10149     631        724   43.0000    12.0000   \n",
       "2  2020-03-10T19:13:20       8042     291       2731   32.0000    53.0000   \n",
       "3  2020-03-10T19:13:20       7513      54        247   36.0000   128.0000   \n",
       "4  2020-03-10T18:53:02       1784      33         12   47.0000     2.0000   \n",
       "\n",
       "   Temprature  Humidity  Temp_Cat  Humid_Cat                     location  \n",
       "0        12.5        86         1          1         Mainland China-Hubei  \n",
       "1        12.9        64         1          1                       Italy-  \n",
       "2        11.9         9         0          0  Iran (Islamic Republic of)-  \n",
       "3         4.9        41         0          0           Republic of Korea-  \n",
       "4        11.9        93         0          0                      France-  "
      ]
     },
     "execution_count": 19,
     "metadata": {},
     "output_type": "execute_result"
    }
   ],
   "source": [
    "data.head()"
   ]
  },
  {
   "cell_type": "code",
   "execution_count": 20,
   "metadata": {},
   "outputs": [],
   "source": [
    "sns.set_style('darkgrid')"
   ]
  },
  {
   "cell_type": "code",
   "execution_count": 21,
   "metadata": {},
   "outputs": [
    {
     "data": {
      "text/plain": [
       "<AxesSubplot:>"
      ]
     },
     "execution_count": 21,
     "metadata": {},
     "output_type": "execute_result"
    },
    {
     "data": {
      "image/png": "[encoded data removed]",
      "text/plain": [
       "<Figure size 432x288 with 1 Axes>"
      ]
     },
     "metadata": {
      "needs_background": "light"
     },
     "output_type": "display_data"
    }
   ],
   "source": [
    "data.Confirmed.hist(bins=100)"
   ]
  },
  {
   "cell_type": "code",
   "execution_count": 22,
   "metadata": {},
   "outputs": [
    {
     "data": {
      "image/png": "[encoded data removed]",
      "text/plain": [
       "<Figure size 432x288 with 1 Axes>"
      ]
     },
     "metadata": {
      "needs_background": "light"
     },
     "output_type": "display_data"
    }
   ],
   "source": [
    "data.Confirmed.plot.box();"
   ]
  },
  {
   "cell_type": "code",
   "execution_count": 23,
   "metadata": {},
   "outputs": [
    {
     "data": {
      "text/plain": [
       "count      206.000000\n",
       "mean       575.640777\n",
       "std       4822.697784\n",
       "min          0.000000\n",
       "25%          3.000000\n",
       "50%         12.000000\n",
       "75%         75.750000\n",
       "max      67760.000000\n",
       "Name: Confirmed, dtype: float64"
      ]
     },
     "execution_count": 23,
     "metadata": {},
     "output_type": "execute_result"
    }
   ],
   "source": [
    "data.Confirmed.describe()"
   ]
  },
  {
   "cell_type": "code",
   "execution_count": 24,
   "metadata": {},
   "outputs": [
    {
     "data": {
      "text/plain": [
       "<AxesSubplot:>"
      ]
     },
     "execution_count": 24,
     "metadata": {},
     "output_type": "execute_result"
    },
    {
     "data": {
      "image/png": "[encoded data removed]",
      "text/plain": [
       "<Figure size 432x288 with 1 Axes>"
      ]
     },
     "metadata": {
      "needs_background": "light"
     },
     "output_type": "display_data"
    }
   ],
   "source": [
    "data.Deaths.hist(bins=100)"
   ]
  },
  {
   "cell_type": "code",
   "execution_count": 25,
   "metadata": {},
   "outputs": [
    {
     "data": {
      "image/png": "[encoded data removed]",
      "text/plain": [
       "<Figure size 432x288 with 1 Axes>"
      ]
     },
     "metadata": {
      "needs_background": "light"
     },
     "output_type": "display_data"
    }
   ],
   "source": [
    "data.Deaths.plot.box();"
   ]
  },
  {
   "cell_type": "code",
   "execution_count": 26,
   "metadata": {},
   "outputs": [
    {
     "data": {
      "text/plain": [
       "count     206.000000\n",
       "mean       20.689320\n",
       "std       215.794845\n",
       "min         0.000000\n",
       "25%         0.000000\n",
       "50%         0.000000\n",
       "75%         1.000000\n",
       "max      3024.000000\n",
       "Name: Deaths, dtype: float64"
      ]
     },
     "execution_count": 26,
     "metadata": {},
     "output_type": "execute_result"
    }
   ],
   "source": [
    "data.Deaths.describe()"
   ]
  },
  {
   "cell_type": "markdown",
   "metadata": {},
   "source": [
    "## Normality Test"
   ]
  },
  {
   "cell_type": "markdown",
   "metadata": {},
   "source": [
    "### Confirmed"
   ]
  },
  {
   "cell_type": "code",
   "execution_count": 27,
   "metadata": {},
   "outputs": [
    {
     "data": {
      "image/png": "[encoded data removed]",
      "text/plain": [
       "<Figure size 432x288 with 1 Axes>"
      ]
     },
     "metadata": {
      "needs_background": "light"
     },
     "output_type": "display_data"
    }
   ],
   "source": [
    "data.Confirmed.hist(bins=100);"
   ]
  },
  {
   "cell_type": "code",
   "execution_count": 28,
   "metadata": {
    "scrolled": false
   },
   "outputs": [
    {
     "data": {
      "text/plain": [
       "((array([-2.71049554, -2.40199212, -2.22624724, -2.10045095, -2.00110795,\n",
       "         -1.9183052 , -1.84688445, -1.7838044 , -1.72711495, -1.67548768,\n",
       "         -1.62797516, -1.58387697, -1.54266003, -1.5039088 , -1.46729282,\n",
       "         -1.43254474, -1.39944511, -1.36781141, -1.3374902 , -1.30835111,\n",
       "         -1.28028247, -1.25318777, -1.2269831 , -1.20159492, -1.17695849,\n",
       "         -1.15301643, -1.12971767, -1.10701655, -1.08487203, -1.06324711,\n",
       "         -1.0421083 , -1.02142519, -1.00117005, -0.98131755, -0.96184447,\n",
       "         -0.94272946, -0.92395285, -0.90549646, -0.88734349, -0.86947831,\n",
       "         -0.85188643, -0.83455431, -0.81746934, -0.80061972, -0.7839944 ,\n",
       "         -0.76758301, -0.75137579, -0.73536359, -0.71953774, -0.70389009,\n",
       "         -0.68841292, -0.67309893, -0.65794119, -0.64293314, -0.62806852,\n",
       "         -0.61334141, -0.59874614, -0.58427732, -0.56992979, -0.55569865,\n",
       "         -0.54157916, -0.52756684, -0.51365734, -0.49984653, -0.4861304 ,\n",
       "         -0.47250513, -0.45896703, -0.44551253, -0.4321382 , -0.41884072,\n",
       "         -0.4056169 , -0.39246364, -0.37937793, -0.36635686, -0.35339762,\n",
       "         -0.34049746, -0.32765371, -0.3148638 , -0.30212518, -0.28943541,\n",
       "         -0.27679207, -0.26419283, -0.25163539, -0.23911751, -0.22663699,\n",
       "         -0.21419166, -0.20177943, -0.18939821, -0.17704595, -0.16472065,\n",
       "         -0.15242033, -0.14014302, -0.1278868 , -0.11564976, -0.10343002,\n",
       "         -0.0912257 , -0.07903495, -0.06685594, -0.05468684, -0.04252583,\n",
       "         -0.03037111, -0.01822087, -0.00607333,  0.00607333,  0.01822087,\n",
       "          0.03037111,  0.04252583,  0.05468684,  0.06685594,  0.07903495,\n",
       "          0.0912257 ,  0.10343002,  0.11564976,  0.1278868 ,  0.14014302,\n",
       "          0.15242033,  0.16472065,  0.17704595,  0.18939821,  0.20177943,\n",
       "          0.21419166,  0.22663699,  0.23911751,  0.25163539,  0.26419283,\n",
       "          0.27679207,  0.28943541,  0.30212518,  0.3148638 ,  0.32765371,\n",
       "          0.34049746,  0.35339762,  0.36635686,  0.37937793,  0.39246364,\n",
       "          0.4056169 ,  0.41884072,  0.4321382 ,  0.44551253,  0.45896703,\n",
       "          0.47250513,  0.4861304 ,  0.49984653,  0.51365734,  0.52756684,\n",
       "          0.54157916,  0.55569865,  0.56992979,  0.58427732,  0.59874614,\n",
       "          0.61334141,  0.62806852,  0.64293314,  0.65794119,  0.67309893,\n",
       "          0.68841292,  0.70389009,  0.71953774,  0.73536359,  0.75137579,\n",
       "          0.76758301,  0.7839944 ,  0.80061972,  0.81746934,  0.83455431,\n",
       "          0.85188643,  0.86947831,  0.88734349,  0.90549646,  0.92395285,\n",
       "          0.94272946,  0.96184447,  0.98131755,  1.00117005,  1.02142519,\n",
       "          1.0421083 ,  1.06324711,  1.08487203,  1.10701655,  1.12971767,\n",
       "          1.15301643,  1.17695849,  1.20159492,  1.2269831 ,  1.25318777,\n",
       "          1.28028247,  1.30835111,  1.3374902 ,  1.36781141,  1.39944511,\n",
       "          1.43254474,  1.46729282,  1.5039088 ,  1.54266003,  1.58387697,\n",
       "          1.62797516,  1.67548768,  1.72711495,  1.7838044 ,  1.84688445,\n",
       "          1.9183052 ,  2.00110795,  2.10045095,  2.22624724,  2.40199212,\n",
       "          2.71049554]),\n",
       "  array([    0,     0,     0,     0,     0,     0,     0,     0,     0,\n",
       "             0,     0,     0,     0,     0,     1,     1,     1,     1,\n",
       "             1,     1,     1,     1,     1,     1,     1,     1,     1,\n",
       "             1,     1,     1,     1,     1,     1,     1,     1,     1,\n",
       "             1,     1,     1,     1,     2,     2,     2,     2,     2,\n",
       "             2,     2,     2,     2,     2,     2,     3,     3,     3,\n",
       "             3,     3,     3,     3,     3,     3,     3,     4,     4,\n",
       "             4,     4,     4,     5,     5,     5,     5,     5,     5,\n",
       "             5,     5,     5,     5,     6,     6,     6,     6,     6,\n",
       "             7,     7,     7,     7,     7,     7,     7,     7,     7,\n",
       "             7,     8,     8,     8,     9,     9,     9,    10,    10,\n",
       "            10,    11,    11,    12,    12,    12,    13,    13,    14,\n",
       "            15,    15,    15,    15,    15,    15,    16,    17,    17,\n",
       "            18,    18,    18,    18,    20,    20,    21,    22,    24,\n",
       "            25,    25,    27,    31,    31,    31,    32,    33,    34,\n",
       "            36,    40,    41,    41,    41,    46,    47,    51,    53,\n",
       "            55,    56,    58,    59,    69,    69,    71,    74,    75,\n",
       "            75,    76,    89,    92,    93,   110,   120,   125,   125,\n",
       "           129,   133,   136,   144,   146,   160,   168,   173,   174,\n",
       "           182,   245,   252,   262,   267,   267,   296,   318,   344,\n",
       "           355,   382,   382,   400,   429,   481,   491,   539,   576,\n",
       "           581,   631,   696,   758,   935,   990,  1018,  1215,  1272,\n",
       "          1353,  1457,  1695,  1784,  7513,  8042, 10149, 67760])),\n",
       " (1371.9785989179668, 575.6407766990293, 0.28207254366769935))"
      ]
     },
     "execution_count": 28,
     "metadata": {},
     "output_type": "execute_result"
    },
    {
     "data": {
      "image/png": "[encoded data removed]",
      "text/plain": [
       "<Figure size 432x288 with 1 Axes>"
      ]
     },
     "metadata": {
      "needs_background": "light"
     },
     "output_type": "display_data"
    }
   ],
   "source": [
    "import pylab\n",
    "\n",
    "stats.probplot(data.Confirmed, dist='norm', plot=pylab)"
   ]
  },
  {
   "cell_type": "code",
   "execution_count": 31,
   "metadata": {},
   "outputs": [
    {
     "data": {
      "image/png": "[encoded data removed]",
      "text/plain": [
       "<Figure size 432x288 with 1 Axes>"
      ]
     },
     "execution_count": 31,
     "metadata": {},
     "output_type": "execute_result"
    },
    {
     "data": {
      "image/png": "[encoded data removed]",
      "text/plain": [
       "<Figure size 432x288 with 1 Axes>"
      ]
     },
     "metadata": {
      "needs_background": "light"
     },
     "output_type": "display_data"
    }
   ],
   "source": [
    "from statsmodels.graphics.gofplots import qqplot\n",
    "\n",
    "qqplot(data.Confirmed, line='s')"
   ]
  },
  {
   "cell_type": "code",
   "execution_count": 32,
   "metadata": {},
   "outputs": [
    {
     "data": {
      "text/plain": [
       "ShapiroResult(statistic=0.08852064609527588, pvalue=2.655296917603526e-30)"
      ]
     },
     "execution_count": 32,
     "metadata": {},
     "output_type": "execute_result"
    }
   ],
   "source": [
    "stats.shapiro(data.Confirmed)"
   ]
  },
  {
   "cell_type": "code",
   "execution_count": 33,
   "metadata": {},
   "outputs": [
    {
     "data": {
      "text/plain": [
       "NormaltestResult(statistic=443.12476977743074, pvalue=5.979692419102666e-97)"
      ]
     },
     "execution_count": 33,
     "metadata": {},
     "output_type": "execute_result"
    }
   ],
   "source": [
    "stats.normaltest(data.Confirmed)"
   ]
  },
  {
   "cell_type": "code",
   "execution_count": 37,
   "metadata": {
    "scrolled": true
   },
   "outputs": [
    {
     "data": {
      "text/html": [
       "<div>\n",
       "<style scoped>\n",
       "    .dataframe tbody tr th:only-of-type {\n",
       "        vertical-align: middle;\n",
       "    }\n",
       "\n",
       "    .dataframe tbody tr th {\n",
       "        vertical-align: top;\n",
       "    }\n",
       "\n",
       "    .dataframe thead th {\n",
       "        text-align: right;\n",
       "    }\n",
       "</style>\n",
       "<table border=\"1\" class=\"dataframe\">\n",
       "  <thead>\n",
       "    <tr style=\"text-align: right;\">\n",
       "      <th></th>\n",
       "      <th>Last Update</th>\n",
       "      <th>Confirmed</th>\n",
       "      <th>Deaths</th>\n",
       "      <th>Recovered</th>\n",
       "      <th>Latitude</th>\n",
       "      <th>Longitude</th>\n",
       "      <th>Temprature</th>\n",
       "      <th>Humidity</th>\n",
       "      <th>Temp_Cat</th>\n",
       "      <th>Humid_Cat</th>\n",
       "      <th>location</th>\n",
       "    </tr>\n",
       "  </thead>\n",
       "  <tbody>\n",
       "    <tr>\n",
       "      <th>11</th>\n",
       "      <td>2020-03-08T05:13:06</td>\n",
       "      <td>990</td>\n",
       "      <td>6</td>\n",
       "      <td>984</td>\n",
       "      <td>31.8257</td>\n",
       "      <td>117.2264</td>\n",
       "      <td>13.2</td>\n",
       "      <td>70</td>\n",
       "      <td>1</td>\n",
       "      <td>1</td>\n",
       "      <td>Mainland China-Anhui</td>\n",
       "    </tr>\n",
       "    <tr>\n",
       "      <th>12</th>\n",
       "      <td>2020-03-10T01:33:02</td>\n",
       "      <td>935</td>\n",
       "      <td>1</td>\n",
       "      <td>927</td>\n",
       "      <td>27.6140</td>\n",
       "      <td>115.7221</td>\n",
       "      <td>12.7</td>\n",
       "      <td>97</td>\n",
       "      <td>1</td>\n",
       "      <td>1</td>\n",
       "      <td>Mainland China-Jiangxi</td>\n",
       "    </tr>\n",
       "    <tr>\n",
       "      <th>13</th>\n",
       "      <td>2020-03-10T07:33:03</td>\n",
       "      <td>758</td>\n",
       "      <td>6</td>\n",
       "      <td>719</td>\n",
       "      <td>36.3427</td>\n",
       "      <td>118.1498</td>\n",
       "      <td>8.6</td>\n",
       "      <td>55</td>\n",
       "      <td>0</td>\n",
       "      <td>0</td>\n",
       "      <td>Mainland China-Shandong</td>\n",
       "    </tr>\n",
       "    <tr>\n",
       "      <th>14</th>\n",
       "      <td>2020-03-06T01:29:39</td>\n",
       "      <td>696</td>\n",
       "      <td>6</td>\n",
       "      <td>40</td>\n",
       "      <td>35.4437</td>\n",
       "      <td>139.6380</td>\n",
       "      <td>10.9</td>\n",
       "      <td>45</td>\n",
       "      <td>0</td>\n",
       "      <td>0</td>\n",
       "      <td>Others-Diamond Princess cruise ship</td>\n",
       "    </tr>\n",
       "    <tr>\n",
       "      <th>15</th>\n",
       "      <td>2020-03-10T08:13:08</td>\n",
       "      <td>631</td>\n",
       "      <td>0</td>\n",
       "      <td>627</td>\n",
       "      <td>32.9711</td>\n",
       "      <td>119.4550</td>\n",
       "      <td>11.3</td>\n",
       "      <td>79</td>\n",
       "      <td>0</td>\n",
       "      <td>0</td>\n",
       "      <td>Mainland China-Jiangsu</td>\n",
       "    </tr>\n",
       "    <tr>\n",
       "      <th>...</th>\n",
       "      <td>...</td>\n",
       "      <td>...</td>\n",
       "      <td>...</td>\n",
       "      <td>...</td>\n",
       "      <td>...</td>\n",
       "      <td>...</td>\n",
       "      <td>...</td>\n",
       "      <td>...</td>\n",
       "      <td>...</td>\n",
       "      <td>...</td>\n",
       "      <td>...</td>\n",
       "    </tr>\n",
       "    <tr>\n",
       "      <th>201</th>\n",
       "      <td>2020-03-10T02:33:04</td>\n",
       "      <td>0</td>\n",
       "      <td>0</td>\n",
       "      <td>0</td>\n",
       "      <td>34.8405</td>\n",
       "      <td>-106.2485</td>\n",
       "      <td>10.0</td>\n",
       "      <td>75</td>\n",
       "      <td>0</td>\n",
       "      <td>0</td>\n",
       "      <td>US-New Mexico</td>\n",
       "    </tr>\n",
       "    <tr>\n",
       "      <th>202</th>\n",
       "      <td>2020-03-10T02:33:04</td>\n",
       "      <td>0</td>\n",
       "      <td>0</td>\n",
       "      <td>0</td>\n",
       "      <td>47.5289</td>\n",
       "      <td>-99.7840</td>\n",
       "      <td>2.7</td>\n",
       "      <td>89</td>\n",
       "      <td>0</td>\n",
       "      <td>0</td>\n",
       "      <td>US-North Dakota</td>\n",
       "    </tr>\n",
       "    <tr>\n",
       "      <th>203</th>\n",
       "      <td>2020-03-10T02:33:04</td>\n",
       "      <td>0</td>\n",
       "      <td>0</td>\n",
       "      <td>0</td>\n",
       "      <td>44.2998</td>\n",
       "      <td>-99.4388</td>\n",
       "      <td>5.9</td>\n",
       "      <td>69</td>\n",
       "      <td>0</td>\n",
       "      <td>0</td>\n",
       "      <td>US-South Dakota</td>\n",
       "    </tr>\n",
       "    <tr>\n",
       "      <th>204</th>\n",
       "      <td>2020-03-10T02:33:04</td>\n",
       "      <td>0</td>\n",
       "      <td>0</td>\n",
       "      <td>0</td>\n",
       "      <td>38.4912</td>\n",
       "      <td>-80.9545</td>\n",
       "      <td>10.6</td>\n",
       "      <td>96</td>\n",
       "      <td>0</td>\n",
       "      <td>0</td>\n",
       "      <td>US-West Virginia</td>\n",
       "    </tr>\n",
       "    <tr>\n",
       "      <th>205</th>\n",
       "      <td>2020-03-10T02:33:04</td>\n",
       "      <td>0</td>\n",
       "      <td>0</td>\n",
       "      <td>0</td>\n",
       "      <td>42.7560</td>\n",
       "      <td>-107.3025</td>\n",
       "      <td>-2.7</td>\n",
       "      <td>91</td>\n",
       "      <td>0</td>\n",
       "      <td>0</td>\n",
       "      <td>US-Wyoming</td>\n",
       "    </tr>\n",
       "  </tbody>\n",
       "</table>\n",
       "<p>195 rows × 11 columns</p>\n",
       "</div>"
      ],
      "text/plain": [
       "             Last Update  Confirmed  Deaths  Recovered  Latitude  Longitude  \\\n",
       "11   2020-03-08T05:13:06        990       6        984   31.8257   117.2264   \n",
       "12   2020-03-10T01:33:02        935       1        927   27.6140   115.7221   \n",
       "13   2020-03-10T07:33:03        758       6        719   36.3427   118.1498   \n",
       "14   2020-03-06T01:29:39        696       6         40   35.4437   139.6380   \n",
       "15   2020-03-10T08:13:08        631       0        627   32.9711   119.4550   \n",
       "..                   ...        ...     ...        ...       ...        ...   \n",
       "201  2020-03-10T02:33:04          0       0          0   34.8405  -106.2485   \n",
       "202  2020-03-10T02:33:04          0       0          0   47.5289   -99.7840   \n",
       "203  2020-03-10T02:33:04          0       0          0   44.2998   -99.4388   \n",
       "204  2020-03-10T02:33:04          0       0          0   38.4912   -80.9545   \n",
       "205  2020-03-10T02:33:04          0       0          0   42.7560  -107.3025   \n",
       "\n",
       "     Temprature  Humidity  Temp_Cat  Humid_Cat  \\\n",
       "11         13.2        70         1          1   \n",
       "12         12.7        97         1          1   \n",
       "13          8.6        55         0          0   \n",
       "14         10.9        45         0          0   \n",
       "15         11.3        79         0          0   \n",
       "..          ...       ...       ...        ...   \n",
       "201        10.0        75         0          0   \n",
       "202         2.7        89         0          0   \n",
       "203         5.9        69         0          0   \n",
       "204        10.6        96         0          0   \n",
       "205        -2.7        91         0          0   \n",
       "\n",
       "                                location  \n",
       "11                  Mainland China-Anhui  \n",
       "12                Mainland China-Jiangxi  \n",
       "13               Mainland China-Shandong  \n",
       "14   Others-Diamond Princess cruise ship  \n",
       "15                Mainland China-Jiangsu  \n",
       "..                                   ...  \n",
       "201                        US-New Mexico  \n",
       "202                      US-North Dakota  \n",
       "203                      US-South Dakota  \n",
       "204                     US-West Virginia  \n",
       "205                           US-Wyoming  \n",
       "\n",
       "[195 rows x 11 columns]"
      ]
     },
     "execution_count": 37,
     "metadata": {},
     "output_type": "execute_result"
    }
   ],
   "source": [
    "data[data.Confirmed < 1000]"
   ]
  },
  {
   "cell_type": "code",
   "execution_count": 38,
   "metadata": {
    "scrolled": true
   },
   "outputs": [
    {
     "data": {
      "text/html": [
       "<div>\n",
       "<style scoped>\n",
       "    .dataframe tbody tr th:only-of-type {\n",
       "        vertical-align: middle;\n",
       "    }\n",
       "\n",
       "    .dataframe tbody tr th {\n",
       "        vertical-align: top;\n",
       "    }\n",
       "\n",
       "    .dataframe thead th {\n",
       "        text-align: right;\n",
       "    }\n",
       "</style>\n",
       "<table border=\"1\" class=\"dataframe\">\n",
       "  <thead>\n",
       "    <tr style=\"text-align: right;\">\n",
       "      <th></th>\n",
       "      <th>Last Update</th>\n",
       "      <th>Confirmed</th>\n",
       "      <th>Deaths</th>\n",
       "      <th>Recovered</th>\n",
       "      <th>Latitude</th>\n",
       "      <th>Longitude</th>\n",
       "      <th>Temprature</th>\n",
       "      <th>Humidity</th>\n",
       "      <th>Temp_Cat</th>\n",
       "      <th>Humid_Cat</th>\n",
       "      <th>location</th>\n",
       "    </tr>\n",
       "  </thead>\n",
       "  <tbody>\n",
       "    <tr>\n",
       "      <th>4</th>\n",
       "      <td>2020-03-10T18:53:02</td>\n",
       "      <td>1784</td>\n",
       "      <td>33</td>\n",
       "      <td>12</td>\n",
       "      <td>47.0000</td>\n",
       "      <td>2.0000</td>\n",
       "      <td>11.9</td>\n",
       "      <td>93</td>\n",
       "      <td>0</td>\n",
       "      <td>0</td>\n",
       "      <td>France-</td>\n",
       "    </tr>\n",
       "    <tr>\n",
       "      <th>5</th>\n",
       "      <td>2020-03-10T23:53:02</td>\n",
       "      <td>1695</td>\n",
       "      <td>35</td>\n",
       "      <td>32</td>\n",
       "      <td>40.0000</td>\n",
       "      <td>-4.0000</td>\n",
       "      <td>22.3</td>\n",
       "      <td>36</td>\n",
       "      <td>1</td>\n",
       "      <td>1</td>\n",
       "      <td>Spain-</td>\n",
       "    </tr>\n",
       "    <tr>\n",
       "      <th>6</th>\n",
       "      <td>2020-03-10T18:53:02</td>\n",
       "      <td>1457</td>\n",
       "      <td>2</td>\n",
       "      <td>18</td>\n",
       "      <td>51.0000</td>\n",
       "      <td>9.0000</td>\n",
       "      <td>10.4</td>\n",
       "      <td>91</td>\n",
       "      <td>0</td>\n",
       "      <td>0</td>\n",
       "      <td>Germany-</td>\n",
       "    </tr>\n",
       "    <tr>\n",
       "      <th>7</th>\n",
       "      <td>2020-03-10T09:13:07</td>\n",
       "      <td>1353</td>\n",
       "      <td>8</td>\n",
       "      <td>1274</td>\n",
       "      <td>23.3417</td>\n",
       "      <td>113.4244</td>\n",
       "      <td>20.9</td>\n",
       "      <td>79</td>\n",
       "      <td>1</td>\n",
       "      <td>1</td>\n",
       "      <td>Mainland China-Guangdong</td>\n",
       "    </tr>\n",
       "    <tr>\n",
       "      <th>8</th>\n",
       "      <td>2020-03-08T05:03:02</td>\n",
       "      <td>1272</td>\n",
       "      <td>22</td>\n",
       "      <td>1247</td>\n",
       "      <td>33.8820</td>\n",
       "      <td>113.6140</td>\n",
       "      <td>14.7</td>\n",
       "      <td>59</td>\n",
       "      <td>1</td>\n",
       "      <td>1</td>\n",
       "      <td>Mainland China-Henan</td>\n",
       "    </tr>\n",
       "    <tr>\n",
       "      <th>...</th>\n",
       "      <td>...</td>\n",
       "      <td>...</td>\n",
       "      <td>...</td>\n",
       "      <td>...</td>\n",
       "      <td>...</td>\n",
       "      <td>...</td>\n",
       "      <td>...</td>\n",
       "      <td>...</td>\n",
       "      <td>...</td>\n",
       "      <td>...</td>\n",
       "      <td>...</td>\n",
       "    </tr>\n",
       "    <tr>\n",
       "      <th>201</th>\n",
       "      <td>2020-03-10T02:33:04</td>\n",
       "      <td>0</td>\n",
       "      <td>0</td>\n",
       "      <td>0</td>\n",
       "      <td>34.8405</td>\n",
       "      <td>-106.2485</td>\n",
       "      <td>10.0</td>\n",
       "      <td>75</td>\n",
       "      <td>0</td>\n",
       "      <td>0</td>\n",
       "      <td>US-New Mexico</td>\n",
       "    </tr>\n",
       "    <tr>\n",
       "      <th>202</th>\n",
       "      <td>2020-03-10T02:33:04</td>\n",
       "      <td>0</td>\n",
       "      <td>0</td>\n",
       "      <td>0</td>\n",
       "      <td>47.5289</td>\n",
       "      <td>-99.7840</td>\n",
       "      <td>2.7</td>\n",
       "      <td>89</td>\n",
       "      <td>0</td>\n",
       "      <td>0</td>\n",
       "      <td>US-North Dakota</td>\n",
       "    </tr>\n",
       "    <tr>\n",
       "      <th>203</th>\n",
       "      <td>2020-03-10T02:33:04</td>\n",
       "      <td>0</td>\n",
       "      <td>0</td>\n",
       "      <td>0</td>\n",
       "      <td>44.2998</td>\n",
       "      <td>-99.4388</td>\n",
       "      <td>5.9</td>\n",
       "      <td>69</td>\n",
       "      <td>0</td>\n",
       "      <td>0</td>\n",
       "      <td>US-South Dakota</td>\n",
       "    </tr>\n",
       "    <tr>\n",
       "      <th>204</th>\n",
       "      <td>2020-03-10T02:33:04</td>\n",
       "      <td>0</td>\n",
       "      <td>0</td>\n",
       "      <td>0</td>\n",
       "      <td>38.4912</td>\n",
       "      <td>-80.9545</td>\n",
       "      <td>10.6</td>\n",
       "      <td>96</td>\n",
       "      <td>0</td>\n",
       "      <td>0</td>\n",
       "      <td>US-West Virginia</td>\n",
       "    </tr>\n",
       "    <tr>\n",
       "      <th>205</th>\n",
       "      <td>2020-03-10T02:33:04</td>\n",
       "      <td>0</td>\n",
       "      <td>0</td>\n",
       "      <td>0</td>\n",
       "      <td>42.7560</td>\n",
       "      <td>-107.3025</td>\n",
       "      <td>-2.7</td>\n",
       "      <td>91</td>\n",
       "      <td>0</td>\n",
       "      <td>0</td>\n",
       "      <td>US-Wyoming</td>\n",
       "    </tr>\n",
       "  </tbody>\n",
       "</table>\n",
       "<p>202 rows × 11 columns</p>\n",
       "</div>"
      ],
      "text/plain": [
       "             Last Update  Confirmed  Deaths  Recovered  Latitude  Longitude  \\\n",
       "4    2020-03-10T18:53:02       1784      33         12   47.0000     2.0000   \n",
       "5    2020-03-10T23:53:02       1695      35         32   40.0000    -4.0000   \n",
       "6    2020-03-10T18:53:02       1457       2         18   51.0000     9.0000   \n",
       "7    2020-03-10T09:13:07       1353       8       1274   23.3417   113.4244   \n",
       "8    2020-03-08T05:03:02       1272      22       1247   33.8820   113.6140   \n",
       "..                   ...        ...     ...        ...       ...        ...   \n",
       "201  2020-03-10T02:33:04          0       0          0   34.8405  -106.2485   \n",
       "202  2020-03-10T02:33:04          0       0          0   47.5289   -99.7840   \n",
       "203  2020-03-10T02:33:04          0       0          0   44.2998   -99.4388   \n",
       "204  2020-03-10T02:33:04          0       0          0   38.4912   -80.9545   \n",
       "205  2020-03-10T02:33:04          0       0          0   42.7560  -107.3025   \n",
       "\n",
       "     Temprature  Humidity  Temp_Cat  Humid_Cat                  location  \n",
       "4          11.9        93         0          0                   France-  \n",
       "5          22.3        36         1          1                    Spain-  \n",
       "6          10.4        91         0          0                  Germany-  \n",
       "7          20.9        79         1          1  Mainland China-Guangdong  \n",
       "8          14.7        59         1          1      Mainland China-Henan  \n",
       "..          ...       ...       ...        ...                       ...  \n",
       "201        10.0        75         0          0             US-New Mexico  \n",
       "202         2.7        89         0          0           US-North Dakota  \n",
       "203         5.9        69         0          0           US-South Dakota  \n",
       "204        10.6        96         0          0          US-West Virginia  \n",
       "205        -2.7        91         0          0                US-Wyoming  \n",
       "\n",
       "[202 rows x 11 columns]"
      ]
     },
     "execution_count": 38,
     "metadata": {},
     "output_type": "execute_result"
    }
   ],
   "source": [
    "data[data.Confirmed < 2000]"
   ]
  },
  {
   "cell_type": "code",
   "execution_count": 39,
   "metadata": {
    "scrolled": true
   },
   "outputs": [
    {
     "data": {
      "text/html": [
       "<div>\n",
       "<style scoped>\n",
       "    .dataframe tbody tr th:only-of-type {\n",
       "        vertical-align: middle;\n",
       "    }\n",
       "\n",
       "    .dataframe tbody tr th {\n",
       "        vertical-align: top;\n",
       "    }\n",
       "\n",
       "    .dataframe thead th {\n",
       "        text-align: right;\n",
       "    }\n",
       "</style>\n",
       "<table border=\"1\" class=\"dataframe\">\n",
       "  <thead>\n",
       "    <tr style=\"text-align: right;\">\n",
       "      <th></th>\n",
       "      <th>Last Update</th>\n",
       "      <th>Confirmed</th>\n",
       "      <th>Deaths</th>\n",
       "      <th>Recovered</th>\n",
       "      <th>Latitude</th>\n",
       "      <th>Longitude</th>\n",
       "      <th>Temprature</th>\n",
       "      <th>Humidity</th>\n",
       "      <th>Temp_Cat</th>\n",
       "      <th>Humid_Cat</th>\n",
       "      <th>location</th>\n",
       "    </tr>\n",
       "  </thead>\n",
       "  <tbody>\n",
       "    <tr>\n",
       "      <th>4</th>\n",
       "      <td>2020-03-10T18:53:02</td>\n",
       "      <td>1784</td>\n",
       "      <td>33</td>\n",
       "      <td>12</td>\n",
       "      <td>47.0000</td>\n",
       "      <td>2.0000</td>\n",
       "      <td>11.9</td>\n",
       "      <td>93</td>\n",
       "      <td>0</td>\n",
       "      <td>0</td>\n",
       "      <td>France-</td>\n",
       "    </tr>\n",
       "    <tr>\n",
       "      <th>5</th>\n",
       "      <td>2020-03-10T23:53:02</td>\n",
       "      <td>1695</td>\n",
       "      <td>35</td>\n",
       "      <td>32</td>\n",
       "      <td>40.0000</td>\n",
       "      <td>-4.0000</td>\n",
       "      <td>22.3</td>\n",
       "      <td>36</td>\n",
       "      <td>1</td>\n",
       "      <td>1</td>\n",
       "      <td>Spain-</td>\n",
       "    </tr>\n",
       "    <tr>\n",
       "      <th>6</th>\n",
       "      <td>2020-03-10T18:53:02</td>\n",
       "      <td>1457</td>\n",
       "      <td>2</td>\n",
       "      <td>18</td>\n",
       "      <td>51.0000</td>\n",
       "      <td>9.0000</td>\n",
       "      <td>10.4</td>\n",
       "      <td>91</td>\n",
       "      <td>0</td>\n",
       "      <td>0</td>\n",
       "      <td>Germany-</td>\n",
       "    </tr>\n",
       "    <tr>\n",
       "      <th>7</th>\n",
       "      <td>2020-03-10T09:13:07</td>\n",
       "      <td>1353</td>\n",
       "      <td>8</td>\n",
       "      <td>1274</td>\n",
       "      <td>23.3417</td>\n",
       "      <td>113.4244</td>\n",
       "      <td>20.9</td>\n",
       "      <td>79</td>\n",
       "      <td>1</td>\n",
       "      <td>1</td>\n",
       "      <td>Mainland China-Guangdong</td>\n",
       "    </tr>\n",
       "    <tr>\n",
       "      <th>8</th>\n",
       "      <td>2020-03-08T05:03:02</td>\n",
       "      <td>1272</td>\n",
       "      <td>22</td>\n",
       "      <td>1247</td>\n",
       "      <td>33.8820</td>\n",
       "      <td>113.6140</td>\n",
       "      <td>14.7</td>\n",
       "      <td>59</td>\n",
       "      <td>1</td>\n",
       "      <td>1</td>\n",
       "      <td>Mainland China-Henan</td>\n",
       "    </tr>\n",
       "    <tr>\n",
       "      <th>...</th>\n",
       "      <td>...</td>\n",
       "      <td>...</td>\n",
       "      <td>...</td>\n",
       "      <td>...</td>\n",
       "      <td>...</td>\n",
       "      <td>...</td>\n",
       "      <td>...</td>\n",
       "      <td>...</td>\n",
       "      <td>...</td>\n",
       "      <td>...</td>\n",
       "      <td>...</td>\n",
       "    </tr>\n",
       "    <tr>\n",
       "      <th>201</th>\n",
       "      <td>2020-03-10T02:33:04</td>\n",
       "      <td>0</td>\n",
       "      <td>0</td>\n",
       "      <td>0</td>\n",
       "      <td>34.8405</td>\n",
       "      <td>-106.2485</td>\n",
       "      <td>10.0</td>\n",
       "      <td>75</td>\n",
       "      <td>0</td>\n",
       "      <td>0</td>\n",
       "      <td>US-New Mexico</td>\n",
       "    </tr>\n",
       "    <tr>\n",
       "      <th>202</th>\n",
       "      <td>2020-03-10T02:33:04</td>\n",
       "      <td>0</td>\n",
       "      <td>0</td>\n",
       "      <td>0</td>\n",
       "      <td>47.5289</td>\n",
       "      <td>-99.7840</td>\n",
       "      <td>2.7</td>\n",
       "      <td>89</td>\n",
       "      <td>0</td>\n",
       "      <td>0</td>\n",
       "      <td>US-North Dakota</td>\n",
       "    </tr>\n",
       "    <tr>\n",
       "      <th>203</th>\n",
       "      <td>2020-03-10T02:33:04</td>\n",
       "      <td>0</td>\n",
       "      <td>0</td>\n",
       "      <td>0</td>\n",
       "      <td>44.2998</td>\n",
       "      <td>-99.4388</td>\n",
       "      <td>5.9</td>\n",
       "      <td>69</td>\n",
       "      <td>0</td>\n",
       "      <td>0</td>\n",
       "      <td>US-South Dakota</td>\n",
       "    </tr>\n",
       "    <tr>\n",
       "      <th>204</th>\n",
       "      <td>2020-03-10T02:33:04</td>\n",
       "      <td>0</td>\n",
       "      <td>0</td>\n",
       "      <td>0</td>\n",
       "      <td>38.4912</td>\n",
       "      <td>-80.9545</td>\n",
       "      <td>10.6</td>\n",
       "      <td>96</td>\n",
       "      <td>0</td>\n",
       "      <td>0</td>\n",
       "      <td>US-West Virginia</td>\n",
       "    </tr>\n",
       "    <tr>\n",
       "      <th>205</th>\n",
       "      <td>2020-03-10T02:33:04</td>\n",
       "      <td>0</td>\n",
       "      <td>0</td>\n",
       "      <td>0</td>\n",
       "      <td>42.7560</td>\n",
       "      <td>-107.3025</td>\n",
       "      <td>-2.7</td>\n",
       "      <td>91</td>\n",
       "      <td>0</td>\n",
       "      <td>0</td>\n",
       "      <td>US-Wyoming</td>\n",
       "    </tr>\n",
       "  </tbody>\n",
       "</table>\n",
       "<p>202 rows × 11 columns</p>\n",
       "</div>"
      ],
      "text/plain": [
       "             Last Update  Confirmed  Deaths  Recovered  Latitude  Longitude  \\\n",
       "4    2020-03-10T18:53:02       1784      33         12   47.0000     2.0000   \n",
       "5    2020-03-10T23:53:02       1695      35         32   40.0000    -4.0000   \n",
       "6    2020-03-10T18:53:02       1457       2         18   51.0000     9.0000   \n",
       "7    2020-03-10T09:13:07       1353       8       1274   23.3417   113.4244   \n",
       "8    2020-03-08T05:03:02       1272      22       1247   33.8820   113.6140   \n",
       "..                   ...        ...     ...        ...       ...        ...   \n",
       "201  2020-03-10T02:33:04          0       0          0   34.8405  -106.2485   \n",
       "202  2020-03-10T02:33:04          0       0          0   47.5289   -99.7840   \n",
       "203  2020-03-10T02:33:04          0       0          0   44.2998   -99.4388   \n",
       "204  2020-03-10T02:33:04          0       0          0   38.4912   -80.9545   \n",
       "205  2020-03-10T02:33:04          0       0          0   42.7560  -107.3025   \n",
       "\n",
       "     Temprature  Humidity  Temp_Cat  Humid_Cat                  location  \n",
       "4          11.9        93         0          0                   France-  \n",
       "5          22.3        36         1          1                    Spain-  \n",
       "6          10.4        91         0          0                  Germany-  \n",
       "7          20.9        79         1          1  Mainland China-Guangdong  \n",
       "8          14.7        59         1          1      Mainland China-Henan  \n",
       "..          ...       ...       ...        ...                       ...  \n",
       "201        10.0        75         0          0             US-New Mexico  \n",
       "202         2.7        89         0          0           US-North Dakota  \n",
       "203         5.9        69         0          0           US-South Dakota  \n",
       "204        10.6        96         0          0          US-West Virginia  \n",
       "205        -2.7        91         0          0                US-Wyoming  \n",
       "\n",
       "[202 rows x 11 columns]"
      ]
     },
     "execution_count": 39,
     "metadata": {},
     "output_type": "execute_result"
    }
   ],
   "source": [
    "data[data.Confirmed < 3000]"
   ]
  },
  {
   "cell_type": "code",
   "execution_count": 41,
   "metadata": {},
   "outputs": [
    {
     "data": {
      "text/html": [
       "<div>\n",
       "<style scoped>\n",
       "    .dataframe tbody tr th:only-of-type {\n",
       "        vertical-align: middle;\n",
       "    }\n",
       "\n",
       "    .dataframe tbody tr th {\n",
       "        vertical-align: top;\n",
       "    }\n",
       "\n",
       "    .dataframe thead th {\n",
       "        text-align: right;\n",
       "    }\n",
       "</style>\n",
       "<table border=\"1\" class=\"dataframe\">\n",
       "  <thead>\n",
       "    <tr style=\"text-align: right;\">\n",
       "      <th></th>\n",
       "      <th>Last Update</th>\n",
       "      <th>Confirmed</th>\n",
       "      <th>Deaths</th>\n",
       "      <th>Recovered</th>\n",
       "      <th>Latitude</th>\n",
       "      <th>Longitude</th>\n",
       "      <th>Temprature</th>\n",
       "      <th>Humidity</th>\n",
       "      <th>Temp_Cat</th>\n",
       "      <th>Humid_Cat</th>\n",
       "      <th>location</th>\n",
       "    </tr>\n",
       "  </thead>\n",
       "  <tbody>\n",
       "    <tr>\n",
       "      <th>0</th>\n",
       "      <td>2020-03-10T15:13:05</td>\n",
       "      <td>67760</td>\n",
       "      <td>3024</td>\n",
       "      <td>47743</td>\n",
       "      <td>30.9756</td>\n",
       "      <td>112.2707</td>\n",
       "      <td>12.5</td>\n",
       "      <td>86</td>\n",
       "      <td>1</td>\n",
       "      <td>1</td>\n",
       "      <td>Mainland China-Hubei</td>\n",
       "    </tr>\n",
       "    <tr>\n",
       "      <th>1</th>\n",
       "      <td>2020-03-10T17:53:02</td>\n",
       "      <td>10149</td>\n",
       "      <td>631</td>\n",
       "      <td>724</td>\n",
       "      <td>43.0000</td>\n",
       "      <td>12.0000</td>\n",
       "      <td>12.9</td>\n",
       "      <td>64</td>\n",
       "      <td>1</td>\n",
       "      <td>1</td>\n",
       "      <td>Italy-</td>\n",
       "    </tr>\n",
       "    <tr>\n",
       "      <th>2</th>\n",
       "      <td>2020-03-10T19:13:20</td>\n",
       "      <td>8042</td>\n",
       "      <td>291</td>\n",
       "      <td>2731</td>\n",
       "      <td>32.0000</td>\n",
       "      <td>53.0000</td>\n",
       "      <td>11.9</td>\n",
       "      <td>9</td>\n",
       "      <td>0</td>\n",
       "      <td>0</td>\n",
       "      <td>Iran (Islamic Republic of)-</td>\n",
       "    </tr>\n",
       "    <tr>\n",
       "      <th>3</th>\n",
       "      <td>2020-03-10T19:13:20</td>\n",
       "      <td>7513</td>\n",
       "      <td>54</td>\n",
       "      <td>247</td>\n",
       "      <td>36.0000</td>\n",
       "      <td>128.0000</td>\n",
       "      <td>4.9</td>\n",
       "      <td>41</td>\n",
       "      <td>0</td>\n",
       "      <td>0</td>\n",
       "      <td>Republic of Korea-</td>\n",
       "    </tr>\n",
       "  </tbody>\n",
       "</table>\n",
       "</div>"
      ],
      "text/plain": [
       "           Last Update  Confirmed  Deaths  Recovered  Latitude  Longitude  \\\n",
       "0  2020-03-10T15:13:05      67760    3024      47743   30.9756   112.2707   \n",
       "1  2020-03-10T17:53:02      10149     631        724   43.0000    12.0000   \n",
       "2  2020-03-10T19:13:20       8042     291       2731   32.0000    53.0000   \n",
       "3  2020-03-10T19:13:20       7513      54        247   36.0000   128.0000   \n",
       "\n",
       "   Temprature  Humidity  Temp_Cat  Humid_Cat                     location  \n",
       "0        12.5        86         1          1         Mainland China-Hubei  \n",
       "1        12.9        64         1          1                       Italy-  \n",
       "2        11.9         9         0          0  Iran (Islamic Republic of)-  \n",
       "3         4.9        41         0          0           Republic of Korea-  "
      ]
     },
     "execution_count": 41,
     "metadata": {},
     "output_type": "execute_result"
    }
   ],
   "source": [
    "data.query('Confirmed > 3000')"
   ]
  },
  {
   "cell_type": "code",
   "execution_count": 43,
   "metadata": {},
   "outputs": [
    {
     "data": {
      "text/plain": [
       "<AxesSubplot:>"
      ]
     },
     "execution_count": 43,
     "metadata": {},
     "output_type": "execute_result"
    },
    {
     "data": {
      "image/png": "[encoded data removed]",
      "text/plain": [
       "<Figure size 432x288 with 1 Axes>"
      ]
     },
     "metadata": {
      "needs_background": "light"
     },
     "output_type": "display_data"
    }
   ],
   "source": [
    "data.query('Confirmed < 3000')['Confirmed'].hist(bins=100)"
   ]
  },
  {
   "cell_type": "code",
   "execution_count": 44,
   "metadata": {
    "scrolled": true
   },
   "outputs": [
    {
     "data": {
      "text/plain": [
       "((array([-2.70399742, -2.39482346, -2.21863595, -2.0924908 , -1.992851  ,\n",
       "         -1.90978503, -1.83812472, -1.77482273, -1.71792502, -1.66610037,\n",
       "         -1.61839937, -1.57412009, -1.53272827, -1.49380745, -1.45702643,\n",
       "         -1.42211725, -1.38885992, -1.35707154, -1.32659826, -1.29730942,\n",
       "         -1.26909306, -1.24185244, -1.21550343, -1.18997232, -1.16519417,\n",
       "         -1.14111147, -1.11767302, -1.09483301, -1.0725503 , -1.05078779,\n",
       "         -1.02951189, -1.00869209, -0.98830058, -0.96831196, -0.94870293,\n",
       "         -0.92945206, -0.91053964, -0.89194741, -0.87365851, -0.85565727,\n",
       "         -0.83792911, -0.82046048, -0.8032387 , -0.78625192, -0.76948905,\n",
       "         -0.75293966, -0.73659396, -0.72044274, -0.70447732, -0.68868947,\n",
       "         -0.67307145, -0.65761591, -0.64231589, -0.62716477, -0.61215628,\n",
       "         -0.59728443, -0.58254353, -0.56792815, -0.55343308, -0.53905338,\n",
       "         -0.52478429, -0.51062126, -0.49655992, -0.4825961 , -0.46872574,\n",
       "         -0.45494499, -0.4412501 , -0.42763747, -0.41410363, -0.40064523,\n",
       "         -0.387259  , -0.37394181, -0.36069062, -0.34750246, -0.33437447,\n",
       "         -0.32130386, -0.30828791, -0.29532398, -0.2824095 , -0.26954195,\n",
       "         -0.25671888, -0.24393789, -0.23119662, -0.21849277, -0.20582409,\n",
       "         -0.19318836, -0.1805834 , -0.16800707, -0.15545725, -0.14293188,\n",
       "         -0.13042889, -0.11794625, -0.10548197, -0.09303405, -0.08060053,\n",
       "         -0.06817946, -0.05576891, -0.04336693, -0.03097162, -0.01858107,\n",
       "         -0.00619337,  0.00619337,  0.01858107,  0.03097162,  0.04336693,\n",
       "          0.05576891,  0.06817946,  0.08060053,  0.09303405,  0.10548197,\n",
       "          0.11794625,  0.13042889,  0.14293188,  0.15545725,  0.16800707,\n",
       "          0.1805834 ,  0.19318836,  0.20582409,  0.21849277,  0.23119662,\n",
       "          0.24393789,  0.25671888,  0.26954195,  0.2824095 ,  0.29532398,\n",
       "          0.30828791,  0.32130386,  0.33437447,  0.34750246,  0.36069062,\n",
       "          0.37394181,  0.387259  ,  0.40064523,  0.41410363,  0.42763747,\n",
       "          0.4412501 ,  0.45494499,  0.46872574,  0.4825961 ,  0.49655992,\n",
       "          0.51062126,  0.52478429,  0.53905338,  0.55343308,  0.56792815,\n",
       "          0.58254353,  0.59728443,  0.61215628,  0.62716477,  0.64231589,\n",
       "          0.65761591,  0.67307145,  0.68868947,  0.70447732,  0.72044274,\n",
       "          0.73659396,  0.75293966,  0.76948905,  0.78625192,  0.8032387 ,\n",
       "          0.82046048,  0.83792911,  0.85565727,  0.87365851,  0.89194741,\n",
       "          0.91053964,  0.92945206,  0.94870293,  0.96831196,  0.98830058,\n",
       "          1.00869209,  1.02951189,  1.05078779,  1.0725503 ,  1.09483301,\n",
       "          1.11767302,  1.14111147,  1.16519417,  1.18997232,  1.21550343,\n",
       "          1.24185244,  1.26909306,  1.29730942,  1.32659826,  1.35707154,\n",
       "          1.38885992,  1.42211725,  1.45702643,  1.49380745,  1.53272827,\n",
       "          1.57412009,  1.61839937,  1.66610037,  1.71792502,  1.77482273,\n",
       "          1.83812472,  1.90978503,  1.992851  ,  2.0924908 ,  2.21863595,\n",
       "          2.39482346,  2.70399742]),\n",
       "  array([   0,    0,    0,    0,    0,    0,    0,    0,    0,    0,    0,\n",
       "            0,    0,    0,    1,    1,    1,    1,    1,    1,    1,    1,\n",
       "            1,    1,    1,    1,    1,    1,    1,    1,    1,    1,    1,\n",
       "            1,    1,    1,    1,    1,    1,    1,    2,    2,    2,    2,\n",
       "            2,    2,    2,    2,    2,    2,    2,    3,    3,    3,    3,\n",
       "            3,    3,    3,    3,    3,    3,    4,    4,    4,    4,    4,\n",
       "            5,    5,    5,    5,    5,    5,    5,    5,    5,    5,    6,\n",
       "            6,    6,    6,    6,    7,    7,    7,    7,    7,    7,    7,\n",
       "            7,    7,    7,    8,    8,    8,    9,    9,    9,   10,   10,\n",
       "           10,   11,   11,   12,   12,   12,   13,   13,   14,   15,   15,\n",
       "           15,   15,   15,   15,   16,   17,   17,   18,   18,   18,   18,\n",
       "           20,   20,   21,   22,   24,   25,   25,   27,   31,   31,   31,\n",
       "           32,   33,   34,   36,   40,   41,   41,   41,   46,   47,   51,\n",
       "           53,   55,   56,   58,   59,   69,   69,   71,   74,   75,   75,\n",
       "           76,   89,   92,   93,  110,  120,  125,  125,  129,  133,  136,\n",
       "          144,  146,  160,  168,  173,  174,  182,  245,  252,  262,  267,\n",
       "          267,  296,  318,  344,  355,  382,  382,  400,  429,  481,  491,\n",
       "          539,  576,  581,  631,  696,  758,  935,  990, 1018, 1215, 1272,\n",
       "         1353, 1457, 1695, 1784])),\n",
       " (203.5101528301126, 124.34653465346538, 0.6823388528175195))"
      ]
     },
     "execution_count": 44,
     "metadata": {},
     "output_type": "execute_result"
    },
    {
     "data": {
      "image/png": "[encoded data removed]",
      "text/plain": [
       "<Figure size 432x288 with 1 Axes>"
      ]
     },
     "metadata": {
      "needs_background": "light"
     },
     "output_type": "display_data"
    }
   ],
   "source": [
    "stats.probplot(data.query('Confirmed < 3000')['Confirmed'],\n",
    "               dist='norm', plot=pylab)"
   ]
  },
  {
   "cell_type": "code",
   "execution_count": 45,
   "metadata": {
    "scrolled": true
   },
   "outputs": [
    {
     "data": {
      "image/png": "[encoded data removed]",
      "text/plain": [
       "<Figure size 432x288 with 1 Axes>"
      ]
     },
     "execution_count": 45,
     "metadata": {},
     "output_type": "execute_result"
    },
    {
     "data": {
      "image/png": "[encoded data removed]",
      "text/plain": [
       "<Figure size 432x288 with 1 Axes>"
      ]
     },
     "metadata": {
      "needs_background": "light"
     },
     "output_type": "display_data"
    }
   ],
   "source": [
    "qqplot(data.query('Confirmed < 3000')['Confirmed'], line='s')"
   ]
  },
  {
   "cell_type": "code",
   "execution_count": 46,
   "metadata": {},
   "outputs": [
    {
     "data": {
      "text/plain": [
       "ShapiroResult(statistic=0.47024112939834595, pvalue=3.4070448901475e-24)"
      ]
     },
     "execution_count": 46,
     "metadata": {},
     "output_type": "execute_result"
    }
   ],
   "source": [
    "stats.shapiro(data.query('Confirmed < 3000')['Confirmed'])"
   ]
  },
  {
   "cell_type": "markdown",
   "metadata": {},
   "source": [
    "### Deaths"
   ]
  },
  {
   "cell_type": "code",
   "execution_count": 47,
   "metadata": {},
   "outputs": [
    {
     "data": {
      "image/png": "[encoded data removed]",
      "text/plain": [
       "<Figure size 432x288 with 1 Axes>"
      ]
     },
     "metadata": {
      "needs_background": "light"
     },
     "output_type": "display_data"
    }
   ],
   "source": [
    "data.Deaths.hist(bins=100);"
   ]
  },
  {
   "cell_type": "markdown",
   "metadata": {},
   "source": [
    "### Recovered"
   ]
  },
  {
   "cell_type": "code",
   "execution_count": 48,
   "metadata": {},
   "outputs": [
    {
     "data": {
      "image/png": "[encoded data removed]",
      "text/plain": [
       "<Figure size 432x288 with 1 Axes>"
      ]
     },
     "metadata": {
      "needs_background": "light"
     },
     "output_type": "display_data"
    }
   ],
   "source": [
    "data.Recovered.hist(bins=100);"
   ]
  },
  {
   "cell_type": "code",
   "execution_count": 49,
   "metadata": {},
   "outputs": [
    {
     "data": {
      "image/png": "[encoded data removed]",
      "text/plain": [
       "<Figure size 432x288 with 1 Axes>"
      ]
     },
     "metadata": {
      "needs_background": "light"
     },
     "output_type": "display_data"
    }
   ],
   "source": [
    "data.query('Recovered < 10000')['Recovered'].hist(bins=100);"
   ]
  },
  {
   "cell_type": "code",
   "execution_count": 50,
   "metadata": {},
   "outputs": [
    {
     "data": {
      "image/png": "[encoded data removed]",
      "text/plain": [
       "<Figure size 432x288 with 1 Axes>"
      ]
     },
     "metadata": {
      "needs_background": "light"
     },
     "output_type": "display_data"
    }
   ],
   "source": [
    "data.query('Recovered < 10000')['Recovered'].plot.box();"
   ]
  },
  {
   "cell_type": "code",
   "execution_count": 51,
   "metadata": {},
   "outputs": [
    {
     "data": {
      "text/plain": [
       "count     205.000000\n",
       "mean       81.273171\n",
       "std       283.430532\n",
       "min         0.000000\n",
       "25%         0.000000\n",
       "50%         0.000000\n",
       "75%         4.000000\n",
       "max      2731.000000\n",
       "Name: Recovered, dtype: float64"
      ]
     },
     "execution_count": 51,
     "metadata": {},
     "output_type": "execute_result"
    }
   ],
   "source": [
    "data.query('Recovered < 10000')['Recovered'].describe()"
   ]
  },
  {
   "cell_type": "markdown",
   "metadata": {},
   "source": [
    "### Temperature"
   ]
  },
  {
   "cell_type": "code",
   "execution_count": 52,
   "metadata": {},
   "outputs": [
    {
     "data": {
      "image/png": "[encoded data removed]",
      "text/plain": [
       "<Figure size 432x288 with 1 Axes>"
      ]
     },
     "metadata": {
      "needs_background": "light"
     },
     "output_type": "display_data"
    }
   ],
   "source": [
    "data.Temprature.hist(bins=100);"
   ]
  },
  {
   "cell_type": "code",
   "execution_count": 54,
   "metadata": {},
   "outputs": [],
   "source": [
    "data.rename({'Temprature': 'Temperature'}, axis=1, inplace=True)"
   ]
  },
  {
   "cell_type": "code",
   "execution_count": 57,
   "metadata": {
    "scrolled": true
   },
   "outputs": [
    {
     "data": {
      "image/png": "[encoded data removed]",
      "text/plain": [
       "<Figure size 432x288 with 1 Axes>"
      ]
     },
     "execution_count": 57,
     "metadata": {},
     "output_type": "execute_result"
    },
    {
     "data": {
      "image/png": "[encoded data removed]",
      "text/plain": [
       "<Figure size 432x288 with 1 Axes>"
      ]
     },
     "metadata": {
      "needs_background": "light"
     },
     "output_type": "display_data"
    }
   ],
   "source": [
    "qqplot(data.Temperature, line='s')"
   ]
  },
  {
   "cell_type": "code",
   "execution_count": 58,
   "metadata": {
    "scrolled": true
   },
   "outputs": [
    {
     "data": {
      "text/plain": [
       "((array([-2.71049554, -2.40199212, -2.22624724, -2.10045095, -2.00110795,\n",
       "         -1.9183052 , -1.84688445, -1.7838044 , -1.72711495, -1.67548768,\n",
       "         -1.62797516, -1.58387697, -1.54266003, -1.5039088 , -1.46729282,\n",
       "         -1.43254474, -1.39944511, -1.36781141, -1.3374902 , -1.30835111,\n",
       "         -1.28028247, -1.25318777, -1.2269831 , -1.20159492, -1.17695849,\n",
       "         -1.15301643, -1.12971767, -1.10701655, -1.08487203, -1.06324711,\n",
       "         -1.0421083 , -1.02142519, -1.00117005, -0.98131755, -0.96184447,\n",
       "         -0.94272946, -0.92395285, -0.90549646, -0.88734349, -0.86947831,\n",
       "         -0.85188643, -0.83455431, -0.81746934, -0.80061972, -0.7839944 ,\n",
       "         -0.76758301, -0.75137579, -0.73536359, -0.71953774, -0.70389009,\n",
       "         -0.68841292, -0.67309893, -0.65794119, -0.64293314, -0.62806852,\n",
       "         -0.61334141, -0.59874614, -0.58427732, -0.56992979, -0.55569865,\n",
       "         -0.54157916, -0.52756684, -0.51365734, -0.49984653, -0.4861304 ,\n",
       "         -0.47250513, -0.45896703, -0.44551253, -0.4321382 , -0.41884072,\n",
       "         -0.4056169 , -0.39246364, -0.37937793, -0.36635686, -0.35339762,\n",
       "         -0.34049746, -0.32765371, -0.3148638 , -0.30212518, -0.28943541,\n",
       "         -0.27679207, -0.26419283, -0.25163539, -0.23911751, -0.22663699,\n",
       "         -0.21419166, -0.20177943, -0.18939821, -0.17704595, -0.16472065,\n",
       "         -0.15242033, -0.14014302, -0.1278868 , -0.11564976, -0.10343002,\n",
       "         -0.0912257 , -0.07903495, -0.06685594, -0.05468684, -0.04252583,\n",
       "         -0.03037111, -0.01822087, -0.00607333,  0.00607333,  0.01822087,\n",
       "          0.03037111,  0.04252583,  0.05468684,  0.06685594,  0.07903495,\n",
       "          0.0912257 ,  0.10343002,  0.11564976,  0.1278868 ,  0.14014302,\n",
       "          0.15242033,  0.16472065,  0.17704595,  0.18939821,  0.20177943,\n",
       "          0.21419166,  0.22663699,  0.23911751,  0.25163539,  0.26419283,\n",
       "          0.27679207,  0.28943541,  0.30212518,  0.3148638 ,  0.32765371,\n",
       "          0.34049746,  0.35339762,  0.36635686,  0.37937793,  0.39246364,\n",
       "          0.4056169 ,  0.41884072,  0.4321382 ,  0.44551253,  0.45896703,\n",
       "          0.47250513,  0.4861304 ,  0.49984653,  0.51365734,  0.52756684,\n",
       "          0.54157916,  0.55569865,  0.56992979,  0.58427732,  0.59874614,\n",
       "          0.61334141,  0.62806852,  0.64293314,  0.65794119,  0.67309893,\n",
       "          0.68841292,  0.70389009,  0.71953774,  0.73536359,  0.75137579,\n",
       "          0.76758301,  0.7839944 ,  0.80061972,  0.81746934,  0.83455431,\n",
       "          0.85188643,  0.86947831,  0.88734349,  0.90549646,  0.92395285,\n",
       "          0.94272946,  0.96184447,  0.98131755,  1.00117005,  1.02142519,\n",
       "          1.0421083 ,  1.06324711,  1.08487203,  1.10701655,  1.12971767,\n",
       "          1.15301643,  1.17695849,  1.20159492,  1.2269831 ,  1.25318777,\n",
       "          1.28028247,  1.30835111,  1.3374902 ,  1.36781141,  1.39944511,\n",
       "          1.43254474,  1.46729282,  1.5039088 ,  1.54266003,  1.58387697,\n",
       "          1.62797516,  1.67548768,  1.72711495,  1.7838044 ,  1.84688445,\n",
       "          1.9183052 ,  2.00110795,  2.10045095,  2.22624724,  2.40199212,\n",
       "          2.71049554]),\n",
       "  array([-21.9, -18.8, -14.3, -13.7, -12.4, -10.3, -10.1,  -7.8,  -6.5,\n",
       "          -6.3,  -4.4,  -4.3,  -2.7,  -2.1,  -2.1,  -2. ,  -2. ,  -1.3,\n",
       "          -0.6,  -0.5,  -0.1,   0.1,   1.1,   1.5,   1.6,   1.7,   1.8,\n",
       "           1.9,   1.9,   2.1,   2.3,   2.4,   2.6,   2.7,   2.7,   3. ,\n",
       "           3.8,   4.1,   4.2,   4.3,   4.9,   5.2,   5.4,   5.4,   5.5,\n",
       "           5.5,   5.6,   5.7,   5.8,   5.9,   5.9,   6. ,   6.4,   6.4,\n",
       "           6.4,   6.5,   6.7,   6.7,   6.8,   6.8,   6.9,   7.1,   7.3,\n",
       "           7.4,   7.5,   7.5,   7.6,   7.7,   8.3,   8.3,   8.4,   8.6,\n",
       "           8.9,   8.9,   8.9,   9.1,   9.2,   9.4,   9.5,   9.5,   9.6,\n",
       "           9.7,   9.7,   9.8,   9.9,  10. ,  10.1,  10.2,  10.4,  10.4,\n",
       "          10.5,  10.6,  10.8,  10.9,  10.9,  10.9,  11. ,  11.3,  11.3,\n",
       "          11.5,  11.6,  11.6,  11.7,  11.8,  11.9,  11.9,  11.9,  12. ,\n",
       "          12. ,  12.2,  12.3,  12.4,  12.5,  12.7,  12.8,  12.9,  12.9,\n",
       "          12.9,  13.1,  13.1,  13.2,  13.2,  13.3,  13.5,  13.5,  13.6,\n",
       "          13.7,  13.8,  13.9,  14.1,  14.5,  14.7,  14.7,  14.7,  15.1,\n",
       "          15.5,  15.9,  16.4,  16.5,  16.9,  17. ,  17.4,  17.7,  18. ,\n",
       "          18.4,  18.4,  19.2,  19.4,  19.5,  19.6,  19.7,  19.9,  20.1,\n",
       "          20.3,  20.4,  20.8,  20.9,  20.9,  20.9,  21.6,  21.6,  21.9,\n",
       "          22.3,  22.3,  22.4,  22.6,  22.7,  22.7,  22.8,  22.8,  22.9,\n",
       "          23.4,  23.4,  23.5,  23.7,  24. ,  24.1,  24.1,  24.2,  24.5,\n",
       "          24.6,  24.8,  25.2,  25.2,  25.3,  25.6,  25.6,  25.9,  26.1,\n",
       "          26.3,  26.8,  27. ,  27. ,  27.3,  27.5,  27.6,  27.7,  28.3,\n",
       "          28.3,  28.7,  30.2,  30.6,  31.4,  31.5,  32.1,  33.1])),\n",
       " (10.215160276834155, 12.161165048543689, 0.9901093232173113))"
      ]
     },
     "execution_count": 58,
     "metadata": {},
     "output_type": "execute_result"
    },
    {
     "data": {
      "image/png": "[encoded data removed]",
      "text/plain": [
       "<Figure size 432x288 with 1 Axes>"
      ]
     },
     "metadata": {
      "needs_background": "light"
     },
     "output_type": "display_data"
    }
   ],
   "source": [
    "stats.probplot(data.Temperature, dist='norm', plot=pylab)"
   ]
  },
  {
   "cell_type": "markdown",
   "metadata": {},
   "source": [
    "It's Ok and normal!"
   ]
  },
  {
   "cell_type": "code",
   "execution_count": 65,
   "metadata": {},
   "outputs": [
    {
     "data": {
      "text/plain": [
       "ShapiroResult(statistic=0.979755163192749, pvalue=0.004575613886117935)"
      ]
     },
     "execution_count": 65,
     "metadata": {},
     "output_type": "execute_result"
    }
   ],
   "source": [
    "stats.shapiro(data.Temperature)"
   ]
  },
  {
   "cell_type": "code",
   "execution_count": 66,
   "metadata": {},
   "outputs": [
    {
     "data": {
      "text/plain": [
       "NormaltestResult(statistic=5.4410333442912755, pvalue=0.06584072756681235)"
      ]
     },
     "execution_count": 66,
     "metadata": {},
     "output_type": "execute_result"
    }
   ],
   "source": [
    "stats.normaltest(data.Temperature)"
   ]
  },
  {
   "cell_type": "code",
   "execution_count": 67,
   "metadata": {},
   "outputs": [
    {
     "data": {
      "text/plain": [
       "AndersonResult(statistic=0.9885133622821058, critical_values=array([0.565, 0.644, 0.772, 0.901, 1.072]), significance_level=array([15. , 10. ,  5. ,  2.5,  1. ]))"
      ]
     },
     "execution_count": 67,
     "metadata": {},
     "output_type": "execute_result"
    }
   ],
   "source": [
    "stats.anderson(data.Temperature)"
   ]
  },
  {
   "cell_type": "markdown",
   "metadata": {},
   "source": [
    "### Humidity"
   ]
  },
  {
   "cell_type": "code",
   "execution_count": 68,
   "metadata": {},
   "outputs": [
    {
     "data": {
      "image/png": "[encoded data removed]",
      "text/plain": [
       "<Figure size 432x288 with 1 Axes>"
      ]
     },
     "metadata": {
      "needs_background": "light"
     },
     "output_type": "display_data"
    }
   ],
   "source": [
    "data.Humidity.hist(bins=100);"
   ]
  },
  {
   "cell_type": "markdown",
   "metadata": {},
   "source": [
    "Does not look so normal!"
   ]
  },
  {
   "cell_type": "code",
   "execution_count": 69,
   "metadata": {
    "scrolled": true
   },
   "outputs": [
    {
     "data": {
      "text/plain": [
       "((array([-2.71049554, -2.40199212, -2.22624724, -2.10045095, -2.00110795,\n",
       "         -1.9183052 , -1.84688445, -1.7838044 , -1.72711495, -1.67548768,\n",
       "         -1.62797516, -1.58387697, -1.54266003, -1.5039088 , -1.46729282,\n",
       "         -1.43254474, -1.39944511, -1.36781141, -1.3374902 , -1.30835111,\n",
       "         -1.28028247, -1.25318777, -1.2269831 , -1.20159492, -1.17695849,\n",
       "         -1.15301643, -1.12971767, -1.10701655, -1.08487203, -1.06324711,\n",
       "         -1.0421083 , -1.02142519, -1.00117005, -0.98131755, -0.96184447,\n",
       "         -0.94272946, -0.92395285, -0.90549646, -0.88734349, -0.86947831,\n",
       "         -0.85188643, -0.83455431, -0.81746934, -0.80061972, -0.7839944 ,\n",
       "         -0.76758301, -0.75137579, -0.73536359, -0.71953774, -0.70389009,\n",
       "         -0.68841292, -0.67309893, -0.65794119, -0.64293314, -0.62806852,\n",
       "         -0.61334141, -0.59874614, -0.58427732, -0.56992979, -0.55569865,\n",
       "         -0.54157916, -0.52756684, -0.51365734, -0.49984653, -0.4861304 ,\n",
       "         -0.47250513, -0.45896703, -0.44551253, -0.4321382 , -0.41884072,\n",
       "         -0.4056169 , -0.39246364, -0.37937793, -0.36635686, -0.35339762,\n",
       "         -0.34049746, -0.32765371, -0.3148638 , -0.30212518, -0.28943541,\n",
       "         -0.27679207, -0.26419283, -0.25163539, -0.23911751, -0.22663699,\n",
       "         -0.21419166, -0.20177943, -0.18939821, -0.17704595, -0.16472065,\n",
       "         -0.15242033, -0.14014302, -0.1278868 , -0.11564976, -0.10343002,\n",
       "         -0.0912257 , -0.07903495, -0.06685594, -0.05468684, -0.04252583,\n",
       "         -0.03037111, -0.01822087, -0.00607333,  0.00607333,  0.01822087,\n",
       "          0.03037111,  0.04252583,  0.05468684,  0.06685594,  0.07903495,\n",
       "          0.0912257 ,  0.10343002,  0.11564976,  0.1278868 ,  0.14014302,\n",
       "          0.15242033,  0.16472065,  0.17704595,  0.18939821,  0.20177943,\n",
       "          0.21419166,  0.22663699,  0.23911751,  0.25163539,  0.26419283,\n",
       "          0.27679207,  0.28943541,  0.30212518,  0.3148638 ,  0.32765371,\n",
       "          0.34049746,  0.35339762,  0.36635686,  0.37937793,  0.39246364,\n",
       "          0.4056169 ,  0.41884072,  0.4321382 ,  0.44551253,  0.45896703,\n",
       "          0.47250513,  0.4861304 ,  0.49984653,  0.51365734,  0.52756684,\n",
       "          0.54157916,  0.55569865,  0.56992979,  0.58427732,  0.59874614,\n",
       "          0.61334141,  0.62806852,  0.64293314,  0.65794119,  0.67309893,\n",
       "          0.68841292,  0.70389009,  0.71953774,  0.73536359,  0.75137579,\n",
       "          0.76758301,  0.7839944 ,  0.80061972,  0.81746934,  0.83455431,\n",
       "          0.85188643,  0.86947831,  0.88734349,  0.90549646,  0.92395285,\n",
       "          0.94272946,  0.96184447,  0.98131755,  1.00117005,  1.02142519,\n",
       "          1.0421083 ,  1.06324711,  1.08487203,  1.10701655,  1.12971767,\n",
       "          1.15301643,  1.17695849,  1.20159492,  1.2269831 ,  1.25318777,\n",
       "          1.28028247,  1.30835111,  1.3374902 ,  1.36781141,  1.39944511,\n",
       "          1.43254474,  1.46729282,  1.5039088 ,  1.54266003,  1.58387697,\n",
       "          1.62797516,  1.67548768,  1.72711495,  1.7838044 ,  1.84688445,\n",
       "          1.9183052 ,  2.00110795,  2.10045095,  2.22624724,  2.40199212,\n",
       "          2.71049554]),\n",
       "  array([ 6,  8,  9, 14, 16, 19, 22, 22, 22, 23, 26, 26, 26, 27, 30, 30, 30,\n",
       "         31, 34, 34, 35, 35, 36, 36, 36, 37, 40, 40, 40, 40, 41, 41, 42, 42,\n",
       "         44, 45, 45, 45, 45, 46, 46, 46, 47, 50, 50, 52, 52, 53, 53, 54, 54,\n",
       "         55, 55, 55, 55, 57, 57, 58, 58, 58, 59, 59, 59, 60, 61, 61, 61, 62,\n",
       "         64, 64, 65, 65, 65, 65, 66, 67, 67, 67, 67, 67, 68, 68, 68, 69, 69,\n",
       "         69, 69, 69, 70, 70, 70, 71, 71, 71, 71, 71, 72, 72, 72, 72, 72, 73,\n",
       "         73, 73, 73, 74, 74, 74, 74, 74, 75, 75, 76, 76, 76, 76, 76, 77, 77,\n",
       "         77, 77, 77, 77, 77, 77, 77, 78, 78, 78, 78, 78, 79, 79, 79, 79, 79,\n",
       "         79, 79, 80, 80, 81, 82, 82, 82, 82, 82, 83, 83, 83, 83, 83, 84, 84,\n",
       "         84, 84, 85, 85, 86, 86, 86, 86, 86, 86, 87, 87, 87, 88, 89, 89, 89,\n",
       "         89, 89, 89, 89, 89, 89, 90, 90, 90, 90, 91, 91, 91, 91, 92, 92, 92,\n",
       "         93, 93, 93, 93, 93, 94, 95, 95, 95, 95, 95, 96, 97, 97, 97, 97, 97,\n",
       "         97, 98])),\n",
       " (21.199241416635328, 67.72815533980582, 0.9650598269884054))"
      ]
     },
     "execution_count": 69,
     "metadata": {},
     "output_type": "execute_result"
    },
    {
     "data": {
      "image/png": "[encoded data removed]",
      "text/plain": [
       "<Figure size 432x288 with 1 Axes>"
      ]
     },
     "metadata": {
      "needs_background": "light"
     },
     "output_type": "display_data"
    }
   ],
   "source": [
    "stats.probplot(data.Humidity, dist='norm', plot=pylab)"
   ]
  },
  {
   "cell_type": "code",
   "execution_count": 70,
   "metadata": {},
   "outputs": [
    {
     "data": {
      "text/plain": [
       "ShapiroResult(statistic=0.9280291199684143, pvalue=1.610098365745216e-08)"
      ]
     },
     "execution_count": 70,
     "metadata": {},
     "output_type": "execute_result"
    }
   ],
   "source": [
    "stats.shapiro(data.Humidity)"
   ]
  },
  {
   "cell_type": "code",
   "execution_count": 71,
   "metadata": {},
   "outputs": [
    {
     "data": {
      "text/plain": [
       "NormaltestResult(statistic=19.37789691992748, pvalue=6.196452835418724e-05)"
      ]
     },
     "execution_count": 71,
     "metadata": {},
     "output_type": "execute_result"
    }
   ],
   "source": [
    "stats.normaltest(data.Humidity)"
   ]
  },
  {
   "cell_type": "code",
   "execution_count": 72,
   "metadata": {},
   "outputs": [
    {
     "data": {
      "text/plain": [
       "AndersonResult(statistic=4.591058907877027, critical_values=array([0.565, 0.644, 0.772, 0.901, 1.072]), significance_level=array([15. , 10. ,  5. ,  2.5,  1. ]))"
      ]
     },
     "execution_count": 72,
     "metadata": {},
     "output_type": "execute_result"
    }
   ],
   "source": [
    "stats.anderson(data.Humidity)"
   ]
  },
  {
   "cell_type": "markdown",
   "metadata": {},
   "source": [
    "seems that anderson test generates the same critical_values for all different columns of our data"
   ]
  }
 ],
 "metadata": {
  "kernelspec": {
   "display_name": "Python 3",
   "language": "python",
   "name": "python3"
  },
  "language_info": {
   "codemirror_mode": {
    "name": "ipython",
    "version": 3
   },
   "file_extension": ".py",
   "mimetype": "text/x-python",
   "name": "python",
   "nbconvert_exporter": "python",
   "pygments_lexer": "ipython3",
   "version": "3.7.0"
  }
 },
 "nbformat": 4,
 "nbformat_minor": 2
}
