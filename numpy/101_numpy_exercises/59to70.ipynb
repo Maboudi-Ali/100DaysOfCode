{
 "cells": [
  {
   "cell_type": "code",
   "execution_count": 1,
   "metadata": {},
   "outputs": [],
   "source": [
    "import numpy as np"
   ]
  },
  {
   "cell_type": "code",
   "execution_count": 2,
   "metadata": {},
   "outputs": [],
   "source": [
    "# 59\n",
    "url = 'https://archive.ics.uci.edu/ml/machine-learning-databases/iris/iris.data'\n",
    "iris = np.genfromtxt(url, delimiter=',', dtype='object')\n",
    "names = ('sepallength', 'sepalwidth', 'petallength', 'petalwidth', 'species')"
   ]
  },
  {
   "cell_type": "code",
   "execution_count": 3,
   "metadata": {
    "scrolled": true
   },
   "outputs": [
    {
     "data": {
      "text/plain": [
       "array([[b'5.1', b'3.5', b'1.4', b'0.2', b'Iris-setosa'],\n",
       "       [b'4.9', b'3.0', b'1.4', b'0.2', b'Iris-setosa'],\n",
       "       [b'4.7', b'3.2', b'1.3', b'0.2', b'Iris-setosa'],\n",
       "       [b'4.6', b'3.1', b'1.5', b'0.2', b'Iris-setosa'],\n",
       "       [b'5.0', b'3.6', b'1.4', b'0.2', b'Iris-setosa'],\n",
       "       [b'5.4', b'3.9', b'1.7', b'0.4', b'Iris-setosa'],\n",
       "       [b'4.6', b'3.4', b'1.4', b'0.3', b'Iris-setosa'],\n",
       "       [b'5.0', b'3.4', b'1.5', b'0.2', b'Iris-setosa'],\n",
       "       [b'4.4', b'2.9', b'1.4', b'0.2', b'Iris-setosa'],\n",
       "       [b'4.9', b'3.1', b'1.5', b'0.1', b'Iris-setosa'],\n",
       "       [b'5.4', b'3.7', b'1.5', b'0.2', b'Iris-setosa'],\n",
       "       [b'4.8', b'3.4', b'1.6', b'0.2', b'Iris-setosa'],\n",
       "       [b'4.8', b'3.0', b'1.4', b'0.1', b'Iris-setosa'],\n",
       "       [b'4.3', b'3.0', b'1.1', b'0.1', b'Iris-setosa'],\n",
       "       [b'5.8', b'4.0', b'1.2', b'0.2', b'Iris-setosa'],\n",
       "       [b'5.7', b'4.4', b'1.5', b'0.4', b'Iris-setosa'],\n",
       "       [b'5.4', b'3.9', b'1.3', b'0.4', b'Iris-setosa'],\n",
       "       [b'5.1', b'3.5', b'1.4', b'0.3', b'Iris-setosa'],\n",
       "       [b'5.7', b'3.8', b'1.7', b'0.3', b'Iris-setosa'],\n",
       "       [b'5.1', b'3.8', b'1.5', b'0.3', b'Iris-setosa'],\n",
       "       [b'5.4', b'3.4', b'1.7', b'0.2', b'Iris-setosa'],\n",
       "       [b'5.1', b'3.7', b'1.5', b'0.4', b'Iris-setosa'],\n",
       "       [b'4.6', b'3.6', b'1.0', b'0.2', b'Iris-setosa'],\n",
       "       [b'5.1', b'3.3', b'1.7', b'0.5', b'Iris-setosa'],\n",
       "       [b'4.8', b'3.4', b'1.9', b'0.2', b'Iris-setosa'],\n",
       "       [b'5.0', b'3.0', b'1.6', b'0.2', b'Iris-setosa'],\n",
       "       [b'5.0', b'3.4', b'1.6', b'0.4', b'Iris-setosa'],\n",
       "       [b'5.2', b'3.5', b'1.5', b'0.2', b'Iris-setosa'],\n",
       "       [b'5.2', b'3.4', b'1.4', b'0.2', b'Iris-setosa'],\n",
       "       [b'4.7', b'3.2', b'1.6', b'0.2', b'Iris-setosa'],\n",
       "       [b'4.8', b'3.1', b'1.6', b'0.2', b'Iris-setosa'],\n",
       "       [b'5.4', b'3.4', b'1.5', b'0.4', b'Iris-setosa'],\n",
       "       [b'5.2', b'4.1', b'1.5', b'0.1', b'Iris-setosa'],\n",
       "       [b'5.5', b'4.2', b'1.4', b'0.2', b'Iris-setosa'],\n",
       "       [b'4.9', b'3.1', b'1.5', b'0.1', b'Iris-setosa'],\n",
       "       [b'5.0', b'3.2', b'1.2', b'0.2', b'Iris-setosa'],\n",
       "       [b'5.5', b'3.5', b'1.3', b'0.2', b'Iris-setosa'],\n",
       "       [b'4.9', b'3.1', b'1.5', b'0.1', b'Iris-setosa'],\n",
       "       [b'4.4', b'3.0', b'1.3', b'0.2', b'Iris-setosa'],\n",
       "       [b'5.1', b'3.4', b'1.5', b'0.2', b'Iris-setosa'],\n",
       "       [b'5.0', b'3.5', b'1.3', b'0.3', b'Iris-setosa'],\n",
       "       [b'4.5', b'2.3', b'1.3', b'0.3', b'Iris-setosa'],\n",
       "       [b'4.4', b'3.2', b'1.3', b'0.2', b'Iris-setosa'],\n",
       "       [b'5.0', b'3.5', b'1.6', b'0.6', b'Iris-setosa'],\n",
       "       [b'5.1', b'3.8', b'1.9', b'0.4', b'Iris-setosa'],\n",
       "       [b'4.8', b'3.0', b'1.4', b'0.3', b'Iris-setosa'],\n",
       "       [b'5.1', b'3.8', b'1.6', b'0.2', b'Iris-setosa'],\n",
       "       [b'4.6', b'3.2', b'1.4', b'0.2', b'Iris-setosa'],\n",
       "       [b'5.3', b'3.7', b'1.5', b'0.2', b'Iris-setosa'],\n",
       "       [b'5.0', b'3.3', b'1.4', b'0.2', b'Iris-setosa'],\n",
       "       [b'7.0', b'3.2', b'4.7', b'1.4', b'Iris-versicolor'],\n",
       "       [b'6.4', b'3.2', b'4.5', b'1.5', b'Iris-versicolor'],\n",
       "       [b'6.9', b'3.1', b'4.9', b'1.5', b'Iris-versicolor'],\n",
       "       [b'5.5', b'2.3', b'4.0', b'1.3', b'Iris-versicolor'],\n",
       "       [b'6.5', b'2.8', b'4.6', b'1.5', b'Iris-versicolor'],\n",
       "       [b'5.7', b'2.8', b'4.5', b'1.3', b'Iris-versicolor'],\n",
       "       [b'6.3', b'3.3', b'4.7', b'1.6', b'Iris-versicolor'],\n",
       "       [b'4.9', b'2.4', b'3.3', b'1.0', b'Iris-versicolor'],\n",
       "       [b'6.6', b'2.9', b'4.6', b'1.3', b'Iris-versicolor'],\n",
       "       [b'5.2', b'2.7', b'3.9', b'1.4', b'Iris-versicolor'],\n",
       "       [b'5.0', b'2.0', b'3.5', b'1.0', b'Iris-versicolor'],\n",
       "       [b'5.9', b'3.0', b'4.2', b'1.5', b'Iris-versicolor'],\n",
       "       [b'6.0', b'2.2', b'4.0', b'1.0', b'Iris-versicolor'],\n",
       "       [b'6.1', b'2.9', b'4.7', b'1.4', b'Iris-versicolor'],\n",
       "       [b'5.6', b'2.9', b'3.6', b'1.3', b'Iris-versicolor'],\n",
       "       [b'6.7', b'3.1', b'4.4', b'1.4', b'Iris-versicolor'],\n",
       "       [b'5.6', b'3.0', b'4.5', b'1.5', b'Iris-versicolor'],\n",
       "       [b'5.8', b'2.7', b'4.1', b'1.0', b'Iris-versicolor'],\n",
       "       [b'6.2', b'2.2', b'4.5', b'1.5', b'Iris-versicolor'],\n",
       "       [b'5.6', b'2.5', b'3.9', b'1.1', b'Iris-versicolor'],\n",
       "       [b'5.9', b'3.2', b'4.8', b'1.8', b'Iris-versicolor'],\n",
       "       [b'6.1', b'2.8', b'4.0', b'1.3', b'Iris-versicolor'],\n",
       "       [b'6.3', b'2.5', b'4.9', b'1.5', b'Iris-versicolor'],\n",
       "       [b'6.1', b'2.8', b'4.7', b'1.2', b'Iris-versicolor'],\n",
       "       [b'6.4', b'2.9', b'4.3', b'1.3', b'Iris-versicolor'],\n",
       "       [b'6.6', b'3.0', b'4.4', b'1.4', b'Iris-versicolor'],\n",
       "       [b'6.8', b'2.8', b'4.8', b'1.4', b'Iris-versicolor'],\n",
       "       [b'6.7', b'3.0', b'5.0', b'1.7', b'Iris-versicolor'],\n",
       "       [b'6.0', b'2.9', b'4.5', b'1.5', b'Iris-versicolor'],\n",
       "       [b'5.7', b'2.6', b'3.5', b'1.0', b'Iris-versicolor'],\n",
       "       [b'5.5', b'2.4', b'3.8', b'1.1', b'Iris-versicolor'],\n",
       "       [b'5.5', b'2.4', b'3.7', b'1.0', b'Iris-versicolor'],\n",
       "       [b'5.8', b'2.7', b'3.9', b'1.2', b'Iris-versicolor'],\n",
       "       [b'6.0', b'2.7', b'5.1', b'1.6', b'Iris-versicolor'],\n",
       "       [b'5.4', b'3.0', b'4.5', b'1.5', b'Iris-versicolor'],\n",
       "       [b'6.0', b'3.4', b'4.5', b'1.6', b'Iris-versicolor'],\n",
       "       [b'6.7', b'3.1', b'4.7', b'1.5', b'Iris-versicolor'],\n",
       "       [b'6.3', b'2.3', b'4.4', b'1.3', b'Iris-versicolor'],\n",
       "       [b'5.6', b'3.0', b'4.1', b'1.3', b'Iris-versicolor'],\n",
       "       [b'5.5', b'2.5', b'4.0', b'1.3', b'Iris-versicolor'],\n",
       "       [b'5.5', b'2.6', b'4.4', b'1.2', b'Iris-versicolor'],\n",
       "       [b'6.1', b'3.0', b'4.6', b'1.4', b'Iris-versicolor'],\n",
       "       [b'5.8', b'2.6', b'4.0', b'1.2', b'Iris-versicolor'],\n",
       "       [b'5.0', b'2.3', b'3.3', b'1.0', b'Iris-versicolor'],\n",
       "       [b'5.6', b'2.7', b'4.2', b'1.3', b'Iris-versicolor'],\n",
       "       [b'5.7', b'3.0', b'4.2', b'1.2', b'Iris-versicolor'],\n",
       "       [b'5.7', b'2.9', b'4.2', b'1.3', b'Iris-versicolor'],\n",
       "       [b'6.2', b'2.9', b'4.3', b'1.3', b'Iris-versicolor'],\n",
       "       [b'5.1', b'2.5', b'3.0', b'1.1', b'Iris-versicolor'],\n",
       "       [b'5.7', b'2.8', b'4.1', b'1.3', b'Iris-versicolor'],\n",
       "       [b'6.3', b'3.3', b'6.0', b'2.5', b'Iris-virginica'],\n",
       "       [b'5.8', b'2.7', b'5.1', b'1.9', b'Iris-virginica'],\n",
       "       [b'7.1', b'3.0', b'5.9', b'2.1', b'Iris-virginica'],\n",
       "       [b'6.3', b'2.9', b'5.6', b'1.8', b'Iris-virginica'],\n",
       "       [b'6.5', b'3.0', b'5.8', b'2.2', b'Iris-virginica'],\n",
       "       [b'7.6', b'3.0', b'6.6', b'2.1', b'Iris-virginica'],\n",
       "       [b'4.9', b'2.5', b'4.5', b'1.7', b'Iris-virginica'],\n",
       "       [b'7.3', b'2.9', b'6.3', b'1.8', b'Iris-virginica'],\n",
       "       [b'6.7', b'2.5', b'5.8', b'1.8', b'Iris-virginica'],\n",
       "       [b'7.2', b'3.6', b'6.1', b'2.5', b'Iris-virginica'],\n",
       "       [b'6.5', b'3.2', b'5.1', b'2.0', b'Iris-virginica'],\n",
       "       [b'6.4', b'2.7', b'5.3', b'1.9', b'Iris-virginica'],\n",
       "       [b'6.8', b'3.0', b'5.5', b'2.1', b'Iris-virginica'],\n",
       "       [b'5.7', b'2.5', b'5.0', b'2.0', b'Iris-virginica'],\n",
       "       [b'5.8', b'2.8', b'5.1', b'2.4', b'Iris-virginica'],\n",
       "       [b'6.4', b'3.2', b'5.3', b'2.3', b'Iris-virginica'],\n",
       "       [b'6.5', b'3.0', b'5.5', b'1.8', b'Iris-virginica'],\n",
       "       [b'7.7', b'3.8', b'6.7', b'2.2', b'Iris-virginica'],\n",
       "       [b'7.7', b'2.6', b'6.9', b'2.3', b'Iris-virginica'],\n",
       "       [b'6.0', b'2.2', b'5.0', b'1.5', b'Iris-virginica'],\n",
       "       [b'6.9', b'3.2', b'5.7', b'2.3', b'Iris-virginica'],\n",
       "       [b'5.6', b'2.8', b'4.9', b'2.0', b'Iris-virginica'],\n",
       "       [b'7.7', b'2.8', b'6.7', b'2.0', b'Iris-virginica'],\n",
       "       [b'6.3', b'2.7', b'4.9', b'1.8', b'Iris-virginica'],\n",
       "       [b'6.7', b'3.3', b'5.7', b'2.1', b'Iris-virginica'],\n",
       "       [b'7.2', b'3.2', b'6.0', b'1.8', b'Iris-virginica'],\n",
       "       [b'6.2', b'2.8', b'4.8', b'1.8', b'Iris-virginica'],\n",
       "       [b'6.1', b'3.0', b'4.9', b'1.8', b'Iris-virginica'],\n",
       "       [b'6.4', b'2.8', b'5.6', b'2.1', b'Iris-virginica'],\n",
       "       [b'7.2', b'3.0', b'5.8', b'1.6', b'Iris-virginica'],\n",
       "       [b'7.4', b'2.8', b'6.1', b'1.9', b'Iris-virginica'],\n",
       "       [b'7.9', b'3.8', b'6.4', b'2.0', b'Iris-virginica'],\n",
       "       [b'6.4', b'2.8', b'5.6', b'2.2', b'Iris-virginica'],\n",
       "       [b'6.3', b'2.8', b'5.1', b'1.5', b'Iris-virginica'],\n",
       "       [b'6.1', b'2.6', b'5.6', b'1.4', b'Iris-virginica'],\n",
       "       [b'7.7', b'3.0', b'6.1', b'2.3', b'Iris-virginica'],\n",
       "       [b'6.3', b'3.4', b'5.6', b'2.4', b'Iris-virginica'],\n",
       "       [b'6.4', b'3.1', b'5.5', b'1.8', b'Iris-virginica'],\n",
       "       [b'6.0', b'3.0', b'4.8', b'1.8', b'Iris-virginica'],\n",
       "       [b'6.9', b'3.1', b'5.4', b'2.1', b'Iris-virginica'],\n",
       "       [b'6.7', b'3.1', b'5.6', b'2.4', b'Iris-virginica'],\n",
       "       [b'6.9', b'3.1', b'5.1', b'2.3', b'Iris-virginica'],\n",
       "       [b'5.8', b'2.7', b'5.1', b'1.9', b'Iris-virginica'],\n",
       "       [b'6.8', b'3.2', b'5.9', b'2.3', b'Iris-virginica'],\n",
       "       [b'6.7', b'3.3', b'5.7', b'2.5', b'Iris-virginica'],\n",
       "       [b'6.7', b'3.0', b'5.2', b'2.3', b'Iris-virginica'],\n",
       "       [b'6.3', b'2.5', b'5.0', b'1.9', b'Iris-virginica'],\n",
       "       [b'6.5', b'3.0', b'5.2', b'2.0', b'Iris-virginica'],\n",
       "       [b'6.2', b'3.4', b'5.4', b'2.3', b'Iris-virginica'],\n",
       "       [b'5.9', b'3.0', b'5.1', b'1.8', b'Iris-virginica']], dtype=object)"
      ]
     },
     "execution_count": 3,
     "metadata": {},
     "output_type": "execute_result"
    }
   ],
   "source": [
    "iris"
   ]
  },
  {
   "cell_type": "code",
   "execution_count": 5,
   "metadata": {},
   "outputs": [],
   "source": [
    "iris[:, :-1] = iris[:, :-1].astype(float) \n",
    "iris[:, -1] = iris[:, -1].astype(str)"
   ]
  },
  {
   "cell_type": "code",
   "execution_count": 7,
   "metadata": {},
   "outputs": [
    {
     "data": {
      "text/plain": [
       "array([[5.1, 3.5, 1.4, 0.2, 'Iris-setosa'],\n",
       "       [4.9, 3.0, 1.4, 0.2, 'Iris-setosa'],\n",
       "       [4.7, 3.2, 1.3, 0.2, 'Iris-setosa'],\n",
       "       [4.6, 3.1, 1.5, 0.2, 'Iris-setosa'],\n",
       "       [5.0, 3.6, 1.4, 0.2, 'Iris-setosa']], dtype=object)"
      ]
     },
     "execution_count": 7,
     "metadata": {},
     "output_type": "execute_result"
    }
   ],
   "source": [
    "setosa = iris[iris[:, -1] == 'Iris-setosa']\n",
    "versicolor = iris[iris[:, -1] == 'Iris-versicolor']\n",
    "virginica = iris[iris[:, -1] == 'Iris-virginica']\n",
    "setosa[:5, :]"
   ]
  },
  {
   "cell_type": "code",
   "execution_count": 8,
   "metadata": {},
   "outputs": [
    {
     "data": {
      "text/plain": [
       "array([5.005999999999999, 3.4180000000000006, 1.464, 0.2439999999999999],\n",
       "      dtype=object)"
      ]
     },
     "execution_count": 8,
     "metadata": {},
     "output_type": "execute_result"
    }
   ],
   "source": [
    "np.mean(setosa[:, :-1], axis=0)"
   ]
  },
  {
   "cell_type": "code",
   "execution_count": 9,
   "metadata": {},
   "outputs": [
    {
     "data": {
      "text/plain": [
       "array([5.936, 2.7700000000000005, 4.26, 1.3259999999999998], dtype=object)"
      ]
     },
     "execution_count": 9,
     "metadata": {},
     "output_type": "execute_result"
    }
   ],
   "source": [
    "np.mean(versicolor[:, :-1], axis=0)"
   ]
  },
  {
   "cell_type": "code",
   "execution_count": 10,
   "metadata": {},
   "outputs": [
    {
     "data": {
      "text/plain": [
       "array([6.587999999999998, 2.9739999999999998, 5.552, 2.026], dtype=object)"
      ]
     },
     "execution_count": 10,
     "metadata": {},
     "output_type": "execute_result"
    }
   ],
   "source": [
    "np.mean(virginica[:, :-1], axis=0)"
   ]
  },
  {
   "cell_type": "code",
   "execution_count": 11,
   "metadata": {},
   "outputs": [
    {
     "ename": "UnicodeDecodeError",
     "evalue": "'utf-8' codec can't decode byte 0xff in position 0: invalid start byte",
     "output_type": "error",
     "traceback": [
      "\u001b[0;31m---------------------------------------------------------------------------\u001b[0m",
      "\u001b[0;31mUnicodeDecodeError\u001b[0m                        Traceback (most recent call last)",
      "\u001b[0;32m<ipython-input-11-8a95f47fdce5>\u001b[0m in \u001b[0;36m<module>\u001b[0;34m()\u001b[0m\n\u001b[1;32m      1\u001b[0m \u001b[0mURL\u001b[0m \u001b[0;34m=\u001b[0m \u001b[0;34m'https://upload.wikimedia.org/wikipedia/commons/8/8b/Denali_Mt_McKinley.jpg'\u001b[0m\u001b[0;34m\u001b[0m\u001b[0m\n\u001b[0;32m----> 2\u001b[0;31m \u001b[0mpil\u001b[0m \u001b[0;34m=\u001b[0m \u001b[0mnp\u001b[0m\u001b[0;34m.\u001b[0m\u001b[0mgenfromtxt\u001b[0m\u001b[0;34m(\u001b[0m\u001b[0mURL\u001b[0m\u001b[0;34m)\u001b[0m\u001b[0;34m\u001b[0m\u001b[0m\n\u001b[0m",
      "\u001b[0;32m~/anaconda3/lib/python3.7/site-packages/numpy/lib/npyio.py\u001b[0m in \u001b[0;36mgenfromtxt\u001b[0;34m(fname, dtype, comments, delimiter, skip_header, skip_footer, converters, missing_values, filling_values, usecols, names, excludelist, deletechars, replace_space, autostrip, case_sensitive, defaultfmt, unpack, usemask, loose, invalid_raise, max_rows, encoding, like)\u001b[0m\n\u001b[1;32m   1819\u001b[0m \u001b[0;34m\u001b[0m\u001b[0m\n\u001b[1;32m   1820\u001b[0m             \u001b[0;32mwhile\u001b[0m \u001b[0;32mnot\u001b[0m \u001b[0mfirst_values\u001b[0m\u001b[0;34m:\u001b[0m\u001b[0;34m\u001b[0m\u001b[0m\n\u001b[0;32m-> 1821\u001b[0;31m                 \u001b[0mfirst_line\u001b[0m \u001b[0;34m=\u001b[0m \u001b[0m_decode_line\u001b[0m\u001b[0;34m(\u001b[0m\u001b[0mnext\u001b[0m\u001b[0;34m(\u001b[0m\u001b[0mfhd\u001b[0m\u001b[0;34m)\u001b[0m\u001b[0;34m,\u001b[0m \u001b[0mencoding\u001b[0m\u001b[0;34m)\u001b[0m\u001b[0;34m\u001b[0m\u001b[0m\n\u001b[0m\u001b[1;32m   1822\u001b[0m                 \u001b[0;32mif\u001b[0m \u001b[0;34m(\u001b[0m\u001b[0mnames\u001b[0m \u001b[0;32mis\u001b[0m \u001b[0;32mTrue\u001b[0m\u001b[0;34m)\u001b[0m \u001b[0;32mand\u001b[0m \u001b[0;34m(\u001b[0m\u001b[0mcomments\u001b[0m \u001b[0;32mis\u001b[0m \u001b[0;32mnot\u001b[0m \u001b[0;32mNone\u001b[0m\u001b[0;34m)\u001b[0m\u001b[0;34m:\u001b[0m\u001b[0;34m\u001b[0m\u001b[0m\n\u001b[1;32m   1823\u001b[0m                     \u001b[0;32mif\u001b[0m \u001b[0mcomments\u001b[0m \u001b[0;32min\u001b[0m \u001b[0mfirst_line\u001b[0m\u001b[0;34m:\u001b[0m\u001b[0;34m\u001b[0m\u001b[0m\n",
      "\u001b[0;32m~/anaconda3/lib/python3.7/codecs.py\u001b[0m in \u001b[0;36mdecode\u001b[0;34m(self, input, final)\u001b[0m\n\u001b[1;32m    320\u001b[0m         \u001b[0;31m# decode input (taking the buffer into account)\u001b[0m\u001b[0;34m\u001b[0m\u001b[0;34m\u001b[0m\u001b[0m\n\u001b[1;32m    321\u001b[0m         \u001b[0mdata\u001b[0m \u001b[0;34m=\u001b[0m \u001b[0mself\u001b[0m\u001b[0;34m.\u001b[0m\u001b[0mbuffer\u001b[0m \u001b[0;34m+\u001b[0m \u001b[0minput\u001b[0m\u001b[0;34m\u001b[0m\u001b[0m\n\u001b[0;32m--> 322\u001b[0;31m         \u001b[0;34m(\u001b[0m\u001b[0mresult\u001b[0m\u001b[0;34m,\u001b[0m \u001b[0mconsumed\u001b[0m\u001b[0;34m)\u001b[0m \u001b[0;34m=\u001b[0m \u001b[0mself\u001b[0m\u001b[0;34m.\u001b[0m\u001b[0m_buffer_decode\u001b[0m\u001b[0;34m(\u001b[0m\u001b[0mdata\u001b[0m\u001b[0;34m,\u001b[0m \u001b[0mself\u001b[0m\u001b[0;34m.\u001b[0m\u001b[0merrors\u001b[0m\u001b[0;34m,\u001b[0m \u001b[0mfinal\u001b[0m\u001b[0;34m)\u001b[0m\u001b[0;34m\u001b[0m\u001b[0m\n\u001b[0m\u001b[1;32m    323\u001b[0m         \u001b[0;31m# keep undecoded input until the next call\u001b[0m\u001b[0;34m\u001b[0m\u001b[0;34m\u001b[0m\u001b[0m\n\u001b[1;32m    324\u001b[0m         \u001b[0mself\u001b[0m\u001b[0;34m.\u001b[0m\u001b[0mbuffer\u001b[0m \u001b[0;34m=\u001b[0m \u001b[0mdata\u001b[0m\u001b[0;34m[\u001b[0m\u001b[0mconsumed\u001b[0m\u001b[0;34m:\u001b[0m\u001b[0;34m]\u001b[0m\u001b[0;34m\u001b[0m\u001b[0m\n",
      "\u001b[0;31mUnicodeDecodeError\u001b[0m: 'utf-8' codec can't decode byte 0xff in position 0: invalid start byte"
     ]
    }
   ],
   "source": [
    "URL = 'https://upload.wikimedia.org/wikipedia/commons/8/8b/Denali_Mt_McKinley.jpg'\n",
    "pil = np.genfromtxt(URL)"
   ]
  },
  {
   "cell_type": "code",
   "execution_count": 13,
   "metadata": {},
   "outputs": [
    {
     "data": {
      "text/plain": [
       "array([1., 2., 3., 5., 6., 7.])"
      ]
     },
     "execution_count": 13,
     "metadata": {},
     "output_type": "execute_result"
    }
   ],
   "source": [
    "# 61\n",
    "arr = np.array([1,2,3,np.nan,5,6,7,np.nan])\n",
    "arr[~np.isnan(arr)]"
   ]
  },
  {
   "cell_type": "code",
   "execution_count": 14,
   "metadata": {},
   "outputs": [
    {
     "data": {
      "text/plain": [
       "6.708203932499369"
      ]
     },
     "execution_count": 14,
     "metadata": {},
     "output_type": "execute_result"
    }
   ],
   "source": [
    "# 62\n",
    "a = np.array([1,2,3,4,5])\n",
    "b = np.array([4,5,6,7,8])\n",
    "np.sqrt(np.sum((a - b) ** 2))"
   ]
  },
  {
   "cell_type": "code",
   "execution_count": 15,
   "metadata": {},
   "outputs": [
    {
     "data": {
      "text/plain": [
       "6.708203932499369"
      ]
     },
     "execution_count": 15,
     "metadata": {},
     "output_type": "execute_result"
    }
   ],
   "source": [
    "np.linalg.norm(a - b)"
   ]
  },
  {
   "cell_type": "code",
   "execution_count": 17,
   "metadata": {},
   "outputs": [
    {
     "data": {
      "text/plain": [
       "array([2, 5])"
      ]
     },
     "execution_count": 17,
     "metadata": {},
     "output_type": "execute_result"
    }
   ],
   "source": [
    "# 63\n",
    "from scipy.signal import find_peaks\n",
    "\n",
    "a = np.array([1, 3, 7, 1, 2, 6, 0, 1])\n",
    "find_peaks(a)[0]"
   ]
  },
  {
   "cell_type": "code",
   "execution_count": 20,
   "metadata": {},
   "outputs": [
    {
     "data": {
      "text/plain": [
       "array([ 0, -2,  2,  0, -2,  2])"
      ]
     },
     "execution_count": 20,
     "metadata": {},
     "output_type": "execute_result"
    }
   ],
   "source": [
    "np.diff(np.sign(np.diff(a)))"
   ]
  },
  {
   "cell_type": "code",
   "execution_count": 26,
   "metadata": {},
   "outputs": [],
   "source": [
    "# 64\n",
    "a_2d = np.array([[3,3,3],[4,4,4],[5,5,5]])\n",
    "b_1d = np.array([1, 2, 3])"
   ]
  },
  {
   "cell_type": "code",
   "execution_count": 27,
   "metadata": {},
   "outputs": [
    {
     "data": {
      "text/plain": [
       "array([[2, 2, 2],\n",
       "       [2, 2, 2],\n",
       "       [2, 2, 2]])"
      ]
     },
     "execution_count": 27,
     "metadata": {},
     "output_type": "execute_result"
    }
   ],
   "source": [
    "a_2d - b_1d.reshape(3, 1)"
   ]
  },
  {
   "cell_type": "code",
   "execution_count": 35,
   "metadata": {},
   "outputs": [
    {
     "data": {
      "text/plain": [
       "8"
      ]
     },
     "execution_count": 35,
     "metadata": {},
     "output_type": "execute_result"
    }
   ],
   "source": [
    "# 65\n",
    "x = np.array([1, 2, 1, 1, 3, 4, 3, 1, 1, 2, 1, 1, 2])\n",
    "np.where((np.cumsum(x == 1)) == 5)[0].min()"
   ]
  },
  {
   "cell_type": "code",
   "execution_count": 33,
   "metadata": {},
   "outputs": [
    {
     "data": {
      "text/plain": [
       "array([ True, False,  True,  True, False, False, False,  True,  True,\n",
       "       False,  True,  True, False])"
      ]
     },
     "execution_count": 33,
     "metadata": {},
     "output_type": "execute_result"
    }
   ],
   "source": [
    "x==1"
   ]
  },
  {
   "cell_type": "code",
   "execution_count": 36,
   "metadata": {},
   "outputs": [
    {
     "data": {
      "text/plain": [
       "8"
      ]
     },
     "execution_count": 36,
     "metadata": {},
     "output_type": "execute_result"
    }
   ],
   "source": [
    "[i for i, v in enumerate(x) if v == 1][4]"
   ]
  },
  {
   "cell_type": "code",
   "execution_count": 38,
   "metadata": {},
   "outputs": [
    {
     "data": {
      "text/plain": [
       "8"
      ]
     },
     "execution_count": 38,
     "metadata": {},
     "output_type": "execute_result"
    }
   ],
   "source": [
    "np.where(x == 1)[0][4]"
   ]
  },
  {
   "cell_type": "code",
   "execution_count": 39,
   "metadata": {},
   "outputs": [],
   "source": [
    "# 66\n",
    "dt64 = np.datetime64('2018-02-25 22:10:10')"
   ]
  },
  {
   "cell_type": "code",
   "execution_count": 40,
   "metadata": {},
   "outputs": [
    {
     "data": {
      "text/plain": [
       "numpy.datetime64('2018-02-25T22:10:10')"
      ]
     },
     "execution_count": 40,
     "metadata": {},
     "output_type": "execute_result"
    }
   ],
   "source": [
    "dt64\n"
   ]
  },
  {
   "cell_type": "code",
   "execution_count": 41,
   "metadata": {},
   "outputs": [
    {
     "data": {
      "text/plain": [
       "datetime.datetime(2018, 2, 25, 22, 10, 10)"
      ]
     },
     "execution_count": 41,
     "metadata": {},
     "output_type": "execute_result"
    }
   ],
   "source": [
    "dt64.tolist()"
   ]
  },
  {
   "cell_type": "code",
   "execution_count": 42,
   "metadata": {},
   "outputs": [
    {
     "data": {
      "text/plain": [
       "datetime.datetime(2018, 2, 25, 22, 10, 10)"
      ]
     },
     "execution_count": 42,
     "metadata": {},
     "output_type": "execute_result"
    }
   ],
   "source": [
    "from datetime import datetime\n",
    "\n",
    "dt64.astype(datetime)"
   ]
  },
  {
   "cell_type": "code",
   "execution_count": 43,
   "metadata": {},
   "outputs": [
    {
     "data": {
      "text/plain": [
       "array([8, 8, 3, 7, 7, 0, 4, 2, 5, 2])"
      ]
     },
     "execution_count": 43,
     "metadata": {},
     "output_type": "execute_result"
    }
   ],
   "source": [
    "# 67\n",
    "np.random.seed(100)\n",
    "Z = np.random.randint(10, size=10)\n",
    "Z"
   ]
  },
  {
   "cell_type": "code",
   "execution_count": 44,
   "metadata": {},
   "outputs": [
    {
     "data": {
      "text/plain": [
       "array([ 2.66666667,  5.33333333,  6.33333333,  8.66666667, 11.        ,\n",
       "       11.        , 12.33333333, 13.        , 14.66666667, 15.33333333])"
      ]
     },
     "execution_count": 44,
     "metadata": {},
     "output_type": "execute_result"
    }
   ],
   "source": [
    "np.cumsum(Z) / 3"
   ]
  },
  {
   "cell_type": "code",
   "execution_count": 46,
   "metadata": {},
   "outputs": [
    {
     "data": {
      "text/plain": [
       "array([ 5,  8, 11, 14, 17, 20, 23, 26, 29, 32])"
      ]
     },
     "execution_count": 46,
     "metadata": {},
     "output_type": "execute_result"
    }
   ],
   "source": [
    "# 68\n",
    "def seq(start, length, step):\n",
    "    end = start + (step*length)\n",
    "    return np.arange(start, end, step)\n",
    "\n",
    "seq(5, 10, 3)\n",
    "#> array([ 5,  8, 11, 14, 17, 20, 23, 26, 29, 32])"
   ]
  },
  {
   "cell_type": "code",
   "execution_count": 47,
   "metadata": {},
   "outputs": [
    {
     "name": "stdout",
     "output_type": "stream",
     "text": [
      "['2018-02-01' '2018-02-03' '2018-02-05' '2018-02-07' '2018-02-09'\n",
      " '2018-02-11' '2018-02-13' '2018-02-15' '2018-02-17' '2018-02-19'\n",
      " '2018-02-21' '2018-02-23']\n"
     ]
    }
   ],
   "source": [
    "dates = np.arange(np.datetime64('2018-02-01'), np.datetime64('2018-02-25'), 2)\n",
    "print(dates)"
   ]
  },
  {
   "cell_type": "code",
   "execution_count": 48,
   "metadata": {},
   "outputs": [
    {
     "data": {
      "text/plain": [
       "array(['2018-02-01', '2018-02-02', '2018-02-03', '2018-02-04',\n",
       "       '2018-02-05', '2018-02-06', '2018-02-07', '2018-02-08',\n",
       "       '2018-02-09', '2018-02-10', '2018-02-11', '2018-02-12',\n",
       "       '2018-02-13', '2018-02-14', '2018-02-15', '2018-02-16',\n",
       "       '2018-02-17', '2018-02-18', '2018-02-19', '2018-02-20',\n",
       "       '2018-02-21', '2018-02-22'], dtype='datetime64[D]')"
      ]
     },
     "execution_count": 48,
     "metadata": {},
     "output_type": "execute_result"
    }
   ],
   "source": [
    "np.arange(dates[0], dates[-1])"
   ]
  },
  {
   "cell_type": "code",
   "execution_count": 49,
   "metadata": {},
   "outputs": [
    {
     "name": "stdout",
     "output_type": "stream",
     "text": [
      "[[ 0  1  2  3]\n",
      " [ 2  3  4  5]\n",
      " [ 4  5  6  7]\n",
      " [ 6  7  8  9]\n",
      " [ 8  9 10 11]\n",
      " [10 11 12 13]]\n"
     ]
    }
   ],
   "source": [
    "# 70\n",
    "\n",
    "def gen_strides(a, stride_len=5, window_len=5):\n",
    "    n_strides = ((a.size-window_len)//stride_len) + 1\n",
    "    # return np.array([a[s:(s+window_len)] for s in np.arange(0, a.size, stride_len)[:n_strides]])\n",
    "    return np.array([a[s:(s+window_len)] for s in np.arange(0, n_strides*stride_len, stride_len)])\n",
    "\n",
    "print(gen_strides(np.arange(15), stride_len=2, window_len=4))"
   ]
  }
 ],
 "metadata": {
  "kernelspec": {
   "display_name": "Python 3",
   "language": "python",
   "name": "python3"
  },
  "language_info": {
   "codemirror_mode": {
    "name": "ipython",
    "version": 3
   },
   "file_extension": ".py",
   "mimetype": "text/x-python",
   "name": "python",
   "nbconvert_exporter": "python",
   "pygments_lexer": "ipython3",
   "version": "3.7.0"
  }
 },
 "nbformat": 4,
 "nbformat_minor": 2
}
