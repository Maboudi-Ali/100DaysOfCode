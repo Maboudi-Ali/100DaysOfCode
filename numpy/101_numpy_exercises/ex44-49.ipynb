{
 "cells": [
  {
   "cell_type": "code",
   "execution_count": 1,
   "metadata": {},
   "outputs": [],
   "source": [
    "import numpy as np"
   ]
  },
  {
   "cell_type": "code",
   "execution_count": 2,
   "metadata": {},
   "outputs": [],
   "source": [
    "url = 'https://archive.ics.uci.edu/ml/machine-learning-databases/iris/iris.data'\n",
    "iris = np.genfromtxt(url, delimiter=',', dtype='object')\n",
    "names = ('sepallength', 'sepalwidth', 'petallength', 'petalwidth', 'species')"
   ]
  },
  {
   "cell_type": "code",
   "execution_count": 3,
   "metadata": {
    "collapsed": true
   },
   "outputs": [
    {
     "data": {
      "text/plain": [
       "array([[b'5.1', b'3.5', b'1.4', b'0.2', b'Iris-setosa'],\n",
       "       [b'4.9', b'3.0', b'1.4', b'0.2', b'Iris-setosa'],\n",
       "       [b'4.7', b'3.2', b'1.3', b'0.2', b'Iris-setosa'],\n",
       "       [b'4.6', b'3.1', b'1.5', b'0.2', b'Iris-setosa'],\n",
       "       [b'5.0', b'3.6', b'1.4', b'0.2', b'Iris-setosa'],\n",
       "       [b'5.4', b'3.9', b'1.7', b'0.4', b'Iris-setosa'],\n",
       "       [b'4.6', b'3.4', b'1.4', b'0.3', b'Iris-setosa'],\n",
       "       [b'5.0', b'3.4', b'1.5', b'0.2', b'Iris-setosa'],\n",
       "       [b'4.4', b'2.9', b'1.4', b'0.2', b'Iris-setosa'],\n",
       "       [b'4.9', b'3.1', b'1.5', b'0.1', b'Iris-setosa'],\n",
       "       [b'5.4', b'3.7', b'1.5', b'0.2', b'Iris-setosa'],\n",
       "       [b'4.8', b'3.4', b'1.6', b'0.2', b'Iris-setosa'],\n",
       "       [b'4.8', b'3.0', b'1.4', b'0.1', b'Iris-setosa'],\n",
       "       [b'4.3', b'3.0', b'1.1', b'0.1', b'Iris-setosa'],\n",
       "       [b'5.8', b'4.0', b'1.2', b'0.2', b'Iris-setosa'],\n",
       "       [b'5.7', b'4.4', b'1.5', b'0.4', b'Iris-setosa'],\n",
       "       [b'5.4', b'3.9', b'1.3', b'0.4', b'Iris-setosa'],\n",
       "       [b'5.1', b'3.5', b'1.4', b'0.3', b'Iris-setosa'],\n",
       "       [b'5.7', b'3.8', b'1.7', b'0.3', b'Iris-setosa'],\n",
       "       [b'5.1', b'3.8', b'1.5', b'0.3', b'Iris-setosa'],\n",
       "       [b'5.4', b'3.4', b'1.7', b'0.2', b'Iris-setosa'],\n",
       "       [b'5.1', b'3.7', b'1.5', b'0.4', b'Iris-setosa'],\n",
       "       [b'4.6', b'3.6', b'1.0', b'0.2', b'Iris-setosa'],\n",
       "       [b'5.1', b'3.3', b'1.7', b'0.5', b'Iris-setosa'],\n",
       "       [b'4.8', b'3.4', b'1.9', b'0.2', b'Iris-setosa'],\n",
       "       [b'5.0', b'3.0', b'1.6', b'0.2', b'Iris-setosa'],\n",
       "       [b'5.0', b'3.4', b'1.6', b'0.4', b'Iris-setosa'],\n",
       "       [b'5.2', b'3.5', b'1.5', b'0.2', b'Iris-setosa'],\n",
       "       [b'5.2', b'3.4', b'1.4', b'0.2', b'Iris-setosa'],\n",
       "       [b'4.7', b'3.2', b'1.6', b'0.2', b'Iris-setosa'],\n",
       "       [b'4.8', b'3.1', b'1.6', b'0.2', b'Iris-setosa'],\n",
       "       [b'5.4', b'3.4', b'1.5', b'0.4', b'Iris-setosa'],\n",
       "       [b'5.2', b'4.1', b'1.5', b'0.1', b'Iris-setosa'],\n",
       "       [b'5.5', b'4.2', b'1.4', b'0.2', b'Iris-setosa'],\n",
       "       [b'4.9', b'3.1', b'1.5', b'0.1', b'Iris-setosa'],\n",
       "       [b'5.0', b'3.2', b'1.2', b'0.2', b'Iris-setosa'],\n",
       "       [b'5.5', b'3.5', b'1.3', b'0.2', b'Iris-setosa'],\n",
       "       [b'4.9', b'3.1', b'1.5', b'0.1', b'Iris-setosa'],\n",
       "       [b'4.4', b'3.0', b'1.3', b'0.2', b'Iris-setosa'],\n",
       "       [b'5.1', b'3.4', b'1.5', b'0.2', b'Iris-setosa'],\n",
       "       [b'5.0', b'3.5', b'1.3', b'0.3', b'Iris-setosa'],\n",
       "       [b'4.5', b'2.3', b'1.3', b'0.3', b'Iris-setosa'],\n",
       "       [b'4.4', b'3.2', b'1.3', b'0.2', b'Iris-setosa'],\n",
       "       [b'5.0', b'3.5', b'1.6', b'0.6', b'Iris-setosa'],\n",
       "       [b'5.1', b'3.8', b'1.9', b'0.4', b'Iris-setosa'],\n",
       "       [b'4.8', b'3.0', b'1.4', b'0.3', b'Iris-setosa'],\n",
       "       [b'5.1', b'3.8', b'1.6', b'0.2', b'Iris-setosa'],\n",
       "       [b'4.6', b'3.2', b'1.4', b'0.2', b'Iris-setosa'],\n",
       "       [b'5.3', b'3.7', b'1.5', b'0.2', b'Iris-setosa'],\n",
       "       [b'5.0', b'3.3', b'1.4', b'0.2', b'Iris-setosa'],\n",
       "       [b'7.0', b'3.2', b'4.7', b'1.4', b'Iris-versicolor'],\n",
       "       [b'6.4', b'3.2', b'4.5', b'1.5', b'Iris-versicolor'],\n",
       "       [b'6.9', b'3.1', b'4.9', b'1.5', b'Iris-versicolor'],\n",
       "       [b'5.5', b'2.3', b'4.0', b'1.3', b'Iris-versicolor'],\n",
       "       [b'6.5', b'2.8', b'4.6', b'1.5', b'Iris-versicolor'],\n",
       "       [b'5.7', b'2.8', b'4.5', b'1.3', b'Iris-versicolor'],\n",
       "       [b'6.3', b'3.3', b'4.7', b'1.6', b'Iris-versicolor'],\n",
       "       [b'4.9', b'2.4', b'3.3', b'1.0', b'Iris-versicolor'],\n",
       "       [b'6.6', b'2.9', b'4.6', b'1.3', b'Iris-versicolor'],\n",
       "       [b'5.2', b'2.7', b'3.9', b'1.4', b'Iris-versicolor'],\n",
       "       [b'5.0', b'2.0', b'3.5', b'1.0', b'Iris-versicolor'],\n",
       "       [b'5.9', b'3.0', b'4.2', b'1.5', b'Iris-versicolor'],\n",
       "       [b'6.0', b'2.2', b'4.0', b'1.0', b'Iris-versicolor'],\n",
       "       [b'6.1', b'2.9', b'4.7', b'1.4', b'Iris-versicolor'],\n",
       "       [b'5.6', b'2.9', b'3.6', b'1.3', b'Iris-versicolor'],\n",
       "       [b'6.7', b'3.1', b'4.4', b'1.4', b'Iris-versicolor'],\n",
       "       [b'5.6', b'3.0', b'4.5', b'1.5', b'Iris-versicolor'],\n",
       "       [b'5.8', b'2.7', b'4.1', b'1.0', b'Iris-versicolor'],\n",
       "       [b'6.2', b'2.2', b'4.5', b'1.5', b'Iris-versicolor'],\n",
       "       [b'5.6', b'2.5', b'3.9', b'1.1', b'Iris-versicolor'],\n",
       "       [b'5.9', b'3.2', b'4.8', b'1.8', b'Iris-versicolor'],\n",
       "       [b'6.1', b'2.8', b'4.0', b'1.3', b'Iris-versicolor'],\n",
       "       [b'6.3', b'2.5', b'4.9', b'1.5', b'Iris-versicolor'],\n",
       "       [b'6.1', b'2.8', b'4.7', b'1.2', b'Iris-versicolor'],\n",
       "       [b'6.4', b'2.9', b'4.3', b'1.3', b'Iris-versicolor'],\n",
       "       [b'6.6', b'3.0', b'4.4', b'1.4', b'Iris-versicolor'],\n",
       "       [b'6.8', b'2.8', b'4.8', b'1.4', b'Iris-versicolor'],\n",
       "       [b'6.7', b'3.0', b'5.0', b'1.7', b'Iris-versicolor'],\n",
       "       [b'6.0', b'2.9', b'4.5', b'1.5', b'Iris-versicolor'],\n",
       "       [b'5.7', b'2.6', b'3.5', b'1.0', b'Iris-versicolor'],\n",
       "       [b'5.5', b'2.4', b'3.8', b'1.1', b'Iris-versicolor'],\n",
       "       [b'5.5', b'2.4', b'3.7', b'1.0', b'Iris-versicolor'],\n",
       "       [b'5.8', b'2.7', b'3.9', b'1.2', b'Iris-versicolor'],\n",
       "       [b'6.0', b'2.7', b'5.1', b'1.6', b'Iris-versicolor'],\n",
       "       [b'5.4', b'3.0', b'4.5', b'1.5', b'Iris-versicolor'],\n",
       "       [b'6.0', b'3.4', b'4.5', b'1.6', b'Iris-versicolor'],\n",
       "       [b'6.7', b'3.1', b'4.7', b'1.5', b'Iris-versicolor'],\n",
       "       [b'6.3', b'2.3', b'4.4', b'1.3', b'Iris-versicolor'],\n",
       "       [b'5.6', b'3.0', b'4.1', b'1.3', b'Iris-versicolor'],\n",
       "       [b'5.5', b'2.5', b'4.0', b'1.3', b'Iris-versicolor'],\n",
       "       [b'5.5', b'2.6', b'4.4', b'1.2', b'Iris-versicolor'],\n",
       "       [b'6.1', b'3.0', b'4.6', b'1.4', b'Iris-versicolor'],\n",
       "       [b'5.8', b'2.6', b'4.0', b'1.2', b'Iris-versicolor'],\n",
       "       [b'5.0', b'2.3', b'3.3', b'1.0', b'Iris-versicolor'],\n",
       "       [b'5.6', b'2.7', b'4.2', b'1.3', b'Iris-versicolor'],\n",
       "       [b'5.7', b'3.0', b'4.2', b'1.2', b'Iris-versicolor'],\n",
       "       [b'5.7', b'2.9', b'4.2', b'1.3', b'Iris-versicolor'],\n",
       "       [b'6.2', b'2.9', b'4.3', b'1.3', b'Iris-versicolor'],\n",
       "       [b'5.1', b'2.5', b'3.0', b'1.1', b'Iris-versicolor'],\n",
       "       [b'5.7', b'2.8', b'4.1', b'1.3', b'Iris-versicolor'],\n",
       "       [b'6.3', b'3.3', b'6.0', b'2.5', b'Iris-virginica'],\n",
       "       [b'5.8', b'2.7', b'5.1', b'1.9', b'Iris-virginica'],\n",
       "       [b'7.1', b'3.0', b'5.9', b'2.1', b'Iris-virginica'],\n",
       "       [b'6.3', b'2.9', b'5.6', b'1.8', b'Iris-virginica'],\n",
       "       [b'6.5', b'3.0', b'5.8', b'2.2', b'Iris-virginica'],\n",
       "       [b'7.6', b'3.0', b'6.6', b'2.1', b'Iris-virginica'],\n",
       "       [b'4.9', b'2.5', b'4.5', b'1.7', b'Iris-virginica'],\n",
       "       [b'7.3', b'2.9', b'6.3', b'1.8', b'Iris-virginica'],\n",
       "       [b'6.7', b'2.5', b'5.8', b'1.8', b'Iris-virginica'],\n",
       "       [b'7.2', b'3.6', b'6.1', b'2.5', b'Iris-virginica'],\n",
       "       [b'6.5', b'3.2', b'5.1', b'2.0', b'Iris-virginica'],\n",
       "       [b'6.4', b'2.7', b'5.3', b'1.9', b'Iris-virginica'],\n",
       "       [b'6.8', b'3.0', b'5.5', b'2.1', b'Iris-virginica'],\n",
       "       [b'5.7', b'2.5', b'5.0', b'2.0', b'Iris-virginica'],\n",
       "       [b'5.8', b'2.8', b'5.1', b'2.4', b'Iris-virginica'],\n",
       "       [b'6.4', b'3.2', b'5.3', b'2.3', b'Iris-virginica'],\n",
       "       [b'6.5', b'3.0', b'5.5', b'1.8', b'Iris-virginica'],\n",
       "       [b'7.7', b'3.8', b'6.7', b'2.2', b'Iris-virginica'],\n",
       "       [b'7.7', b'2.6', b'6.9', b'2.3', b'Iris-virginica'],\n",
       "       [b'6.0', b'2.2', b'5.0', b'1.5', b'Iris-virginica'],\n",
       "       [b'6.9', b'3.2', b'5.7', b'2.3', b'Iris-virginica'],\n",
       "       [b'5.6', b'2.8', b'4.9', b'2.0', b'Iris-virginica'],\n",
       "       [b'7.7', b'2.8', b'6.7', b'2.0', b'Iris-virginica'],\n",
       "       [b'6.3', b'2.7', b'4.9', b'1.8', b'Iris-virginica'],\n",
       "       [b'6.7', b'3.3', b'5.7', b'2.1', b'Iris-virginica'],\n",
       "       [b'7.2', b'3.2', b'6.0', b'1.8', b'Iris-virginica'],\n",
       "       [b'6.2', b'2.8', b'4.8', b'1.8', b'Iris-virginica'],\n",
       "       [b'6.1', b'3.0', b'4.9', b'1.8', b'Iris-virginica'],\n",
       "       [b'6.4', b'2.8', b'5.6', b'2.1', b'Iris-virginica'],\n",
       "       [b'7.2', b'3.0', b'5.8', b'1.6', b'Iris-virginica'],\n",
       "       [b'7.4', b'2.8', b'6.1', b'1.9', b'Iris-virginica'],\n",
       "       [b'7.9', b'3.8', b'6.4', b'2.0', b'Iris-virginica'],\n",
       "       [b'6.4', b'2.8', b'5.6', b'2.2', b'Iris-virginica'],\n",
       "       [b'6.3', b'2.8', b'5.1', b'1.5', b'Iris-virginica'],\n",
       "       [b'6.1', b'2.6', b'5.6', b'1.4', b'Iris-virginica'],\n",
       "       [b'7.7', b'3.0', b'6.1', b'2.3', b'Iris-virginica'],\n",
       "       [b'6.3', b'3.4', b'5.6', b'2.4', b'Iris-virginica'],\n",
       "       [b'6.4', b'3.1', b'5.5', b'1.8', b'Iris-virginica'],\n",
       "       [b'6.0', b'3.0', b'4.8', b'1.8', b'Iris-virginica'],\n",
       "       [b'6.9', b'3.1', b'5.4', b'2.1', b'Iris-virginica'],\n",
       "       [b'6.7', b'3.1', b'5.6', b'2.4', b'Iris-virginica'],\n",
       "       [b'6.9', b'3.1', b'5.1', b'2.3', b'Iris-virginica'],\n",
       "       [b'5.8', b'2.7', b'5.1', b'1.9', b'Iris-virginica'],\n",
       "       [b'6.8', b'3.2', b'5.9', b'2.3', b'Iris-virginica'],\n",
       "       [b'6.7', b'3.3', b'5.7', b'2.5', b'Iris-virginica'],\n",
       "       [b'6.7', b'3.0', b'5.2', b'2.3', b'Iris-virginica'],\n",
       "       [b'6.3', b'2.5', b'5.0', b'1.9', b'Iris-virginica'],\n",
       "       [b'6.5', b'3.0', b'5.2', b'2.0', b'Iris-virginica'],\n",
       "       [b'6.2', b'3.4', b'5.4', b'2.3', b'Iris-virginica'],\n",
       "       [b'5.9', b'3.0', b'5.1', b'1.8', b'Iris-virginica']], dtype=object)"
      ]
     },
     "execution_count": 3,
     "metadata": {},
     "output_type": "execute_result"
    }
   ],
   "source": [
    "iris"
   ]
  },
  {
   "cell_type": "markdown",
   "metadata": {},
   "source": [
    "### exercise 44"
   ]
  },
  {
   "cell_type": "code",
   "execution_count": 13,
   "metadata": {},
   "outputs": [
    {
     "data": {
      "text/plain": [
       "array([['5.1', '3.5', '1.4', '0.2', 'Iris-setosa'],\n",
       "       ['4.9', '3.0', '1.4', '0.2', 'Iris-setosa'],\n",
       "       ['4.7', '3.2', '1.3', '0.2', 'Iris-setosa'],\n",
       "       ['4.6', '3.1', '1.5', '0.2', 'Iris-setosa'],\n",
       "       ['5.0', '3.6', '1.4', '0.2', 'Iris-setosa'],\n",
       "       ['5.4', '3.9', '1.7', '0.4', 'Iris-setosa'],\n",
       "       ['4.6', '3.4', '1.4', '0.3', 'Iris-setosa'],\n",
       "       ['5.0', '3.4', '1.5', '0.2', 'Iris-setosa'],\n",
       "       ['4.4', '2.9', '1.4', '0.2', 'Iris-setosa'],\n",
       "       ['4.9', '3.1', '1.5', '0.1', 'Iris-setosa'],\n",
       "       ['5.4', '3.7', '1.5', '0.2', 'Iris-setosa'],\n",
       "       ['4.8', '3.4', '1.6', '0.2', 'Iris-setosa'],\n",
       "       ['4.8', '3.0', '1.4', '0.1', 'Iris-setosa'],\n",
       "       ['4.3', '3.0', '1.1', '0.1', 'Iris-setosa'],\n",
       "       ['5.8', '4.0', '1.2', '0.2', 'Iris-setosa'],\n",
       "       ['5.7', '4.4', '1.5', '0.4', 'Iris-setosa'],\n",
       "       ['5.4', '3.9', '1.3', '0.4', 'Iris-setosa'],\n",
       "       ['5.1', '3.5', '1.4', '0.3', 'Iris-setosa'],\n",
       "       ['5.7', '3.8', '1.7', '0.3', 'Iris-setosa'],\n",
       "       ['5.1', '3.8', '1.5', '0.3', 'Iris-setosa'],\n",
       "       ['5.4', '3.4', '1.7', '0.2', 'Iris-setosa'],\n",
       "       ['5.1', '3.7', '1.5', '0.4', 'Iris-setosa'],\n",
       "       ['4.6', '3.6', '1.0', '0.2', 'Iris-setosa'],\n",
       "       ['5.1', '3.3', '1.7', '0.5', 'Iris-setosa'],\n",
       "       ['4.8', '3.4', '1.9', '0.2', 'Iris-setosa'],\n",
       "       ['5.0', '3.0', '1.6', '0.2', 'Iris-setosa'],\n",
       "       ['5.0', '3.4', '1.6', '0.4', 'Iris-setosa'],\n",
       "       ['5.2', '3.5', '1.5', '0.2', 'Iris-setosa'],\n",
       "       ['5.2', '3.4', '1.4', '0.2', 'Iris-setosa'],\n",
       "       ['4.7', '3.2', '1.6', '0.2', 'Iris-setosa'],\n",
       "       ['4.8', '3.1', '1.6', '0.2', 'Iris-setosa'],\n",
       "       ['5.4', '3.4', '1.5', '0.4', 'Iris-setosa'],\n",
       "       ['5.2', '4.1', '1.5', '0.1', 'Iris-setosa'],\n",
       "       ['5.5', '4.2', '1.4', '0.2', 'Iris-setosa'],\n",
       "       ['4.9', '3.1', '1.5', '0.1', 'Iris-setosa'],\n",
       "       ['5.0', '3.2', '1.2', '0.2', 'Iris-setosa'],\n",
       "       ['5.5', '3.5', '1.3', '0.2', 'Iris-setosa'],\n",
       "       ['4.9', '3.1', '1.5', '0.1', 'Iris-setosa'],\n",
       "       ['4.4', '3.0', '1.3', '0.2', 'Iris-setosa'],\n",
       "       ['5.1', '3.4', '1.5', '0.2', 'Iris-setosa'],\n",
       "       ['5.0', '3.5', '1.3', '0.3', 'Iris-setosa'],\n",
       "       ['4.5', '2.3', '1.3', '0.3', 'Iris-setosa'],\n",
       "       ['4.4', '3.2', '1.3', '0.2', 'Iris-setosa'],\n",
       "       ['5.0', '3.5', '1.6', '0.6', 'Iris-setosa'],\n",
       "       ['5.1', '3.8', '1.9', '0.4', 'Iris-setosa'],\n",
       "       ['4.8', '3.0', '1.4', '0.3', 'Iris-setosa'],\n",
       "       ['5.1', '3.8', '1.6', '0.2', 'Iris-setosa'],\n",
       "       ['4.6', '3.2', '1.4', '0.2', 'Iris-setosa'],\n",
       "       ['5.3', '3.7', '1.5', '0.2', 'Iris-setosa'],\n",
       "       ['5.0', '3.3', '1.4', '0.2', 'Iris-setosa'],\n",
       "       ['7.0', '3.2', '4.7', '1.4', 'Iris-versicolor'],\n",
       "       ['6.4', '3.2', '4.5', '1.5', 'Iris-versicolor'],\n",
       "       ['6.9', '3.1', '4.9', '1.5', 'Iris-versicolor'],\n",
       "       ['5.5', '2.3', '4.0', '1.3', 'Iris-versicolor'],\n",
       "       ['6.5', '2.8', '4.6', '1.5', 'Iris-versicolor'],\n",
       "       ['5.7', '2.8', '4.5', '1.3', 'Iris-versicolor'],\n",
       "       ['6.3', '3.3', '4.7', '1.6', 'Iris-versicolor'],\n",
       "       ['4.9', '2.4', '3.3', '1.0', 'Iris-versicolor'],\n",
       "       ['6.6', '2.9', '4.6', '1.3', 'Iris-versicolor'],\n",
       "       ['5.2', '2.7', '3.9', '1.4', 'Iris-versicolor'],\n",
       "       ['5.0', '2.0', '3.5', '1.0', 'Iris-versicolor'],\n",
       "       ['5.9', '3.0', '4.2', '1.5', 'Iris-versicolor'],\n",
       "       ['6.0', '2.2', '4.0', '1.0', 'Iris-versicolor'],\n",
       "       ['6.1', '2.9', '4.7', '1.4', 'Iris-versicolor'],\n",
       "       ['5.6', '2.9', '3.6', '1.3', 'Iris-versicolor'],\n",
       "       ['6.7', '3.1', '4.4', '1.4', 'Iris-versicolor'],\n",
       "       ['5.6', '3.0', '4.5', '1.5', 'Iris-versicolor'],\n",
       "       ['5.8', '2.7', '4.1', '1.0', 'Iris-versicolor'],\n",
       "       ['6.2', '2.2', '4.5', '1.5', 'Iris-versicolor'],\n",
       "       ['5.6', '2.5', '3.9', '1.1', 'Iris-versicolor'],\n",
       "       ['5.9', '3.2', '4.8', '1.8', 'Iris-versicolor'],\n",
       "       ['6.1', '2.8', '4.0', '1.3', 'Iris-versicolor'],\n",
       "       ['6.3', '2.5', '4.9', '1.5', 'Iris-versicolor'],\n",
       "       ['6.1', '2.8', '4.7', '1.2', 'Iris-versicolor'],\n",
       "       ['6.4', '2.9', '4.3', '1.3', 'Iris-versicolor'],\n",
       "       ['6.6', '3.0', '4.4', '1.4', 'Iris-versicolor'],\n",
       "       ['6.8', '2.8', '4.8', '1.4', 'Iris-versicolor'],\n",
       "       ['6.7', '3.0', '5.0', '1.7', 'Iris-versicolor'],\n",
       "       ['6.0', '2.9', '4.5', '1.5', 'Iris-versicolor'],\n",
       "       ['5.7', '2.6', '3.5', '1.0', 'Iris-versicolor'],\n",
       "       ['5.5', '2.4', '3.8', '1.1', 'Iris-versicolor'],\n",
       "       ['5.5', '2.4', '3.7', '1.0', 'Iris-versicolor'],\n",
       "       ['5.8', '2.7', '3.9', '1.2', 'Iris-versicolor'],\n",
       "       ['6.0', '2.7', '5.1', '1.6', 'Iris-versicolor'],\n",
       "       ['5.4', '3.0', '4.5', '1.5', 'Iris-versicolor'],\n",
       "       ['6.0', '3.4', '4.5', '1.6', 'Iris-versicolor'],\n",
       "       ['6.7', '3.1', '4.7', '1.5', 'Iris-versicolor'],\n",
       "       ['6.3', '2.3', '4.4', '1.3', 'Iris-versicolor'],\n",
       "       ['5.6', '3.0', '4.1', '1.3', 'Iris-versicolor'],\n",
       "       ['5.5', '2.5', '4.0', '1.3', 'Iris-versicolor'],\n",
       "       ['5.5', '2.6', '4.4', '1.2', 'Iris-versicolor'],\n",
       "       ['6.1', '3.0', '4.6', '1.4', 'Iris-versicolor'],\n",
       "       ['5.8', '2.6', '4.0', '1.2', 'Iris-versicolor'],\n",
       "       ['5.0', '2.3', '3.3', '1.0', 'Iris-versicolor'],\n",
       "       ['5.6', '2.7', '4.2', '1.3', 'Iris-versicolor'],\n",
       "       ['5.7', '3.0', '4.2', '1.2', 'Iris-versicolor'],\n",
       "       ['5.7', '2.9', '4.2', '1.3', 'Iris-versicolor'],\n",
       "       ['6.2', '2.9', '4.3', '1.3', 'Iris-versicolor'],\n",
       "       ['5.1', '2.5', '3.0', '1.1', 'Iris-versicolor'],\n",
       "       ['5.7', '2.8', '4.1', '1.3', 'Iris-versicolor'],\n",
       "       ['6.3', '3.3', '6.0', '2.5', 'Iris-virginica'],\n",
       "       ['5.8', '2.7', '5.1', '1.9', 'Iris-virginica'],\n",
       "       ['7.1', '3.0', '5.9', '2.1', 'Iris-virginica'],\n",
       "       ['6.3', '2.9', '5.6', '1.8', 'Iris-virginica'],\n",
       "       ['6.5', '3.0', '5.8', '2.2', 'Iris-virginica'],\n",
       "       ['7.6', '3.0', '6.6', '2.1', 'Iris-virginica'],\n",
       "       ['4.9', '2.5', '4.5', '1.7', 'Iris-virginica'],\n",
       "       ['7.3', '2.9', '6.3', '1.8', 'Iris-virginica'],\n",
       "       ['6.7', '2.5', '5.8', '1.8', 'Iris-virginica'],\n",
       "       ['7.2', '3.6', '6.1', '2.5', 'Iris-virginica'],\n",
       "       ['6.5', '3.2', '5.1', '2.0', 'Iris-virginica'],\n",
       "       ['6.4', '2.7', '5.3', '1.9', 'Iris-virginica'],\n",
       "       ['6.8', '3.0', '5.5', '2.1', 'Iris-virginica'],\n",
       "       ['5.7', '2.5', '5.0', '2.0', 'Iris-virginica'],\n",
       "       ['5.8', '2.8', '5.1', '2.4', 'Iris-virginica'],\n",
       "       ['6.4', '3.2', '5.3', '2.3', 'Iris-virginica'],\n",
       "       ['6.5', '3.0', '5.5', '1.8', 'Iris-virginica'],\n",
       "       ['7.7', '3.8', '6.7', '2.2', 'Iris-virginica'],\n",
       "       ['7.7', '2.6', '6.9', '2.3', 'Iris-virginica'],\n",
       "       ['6.0', '2.2', '5.0', '1.5', 'Iris-virginica'],\n",
       "       ['6.9', '3.2', '5.7', '2.3', 'Iris-virginica'],\n",
       "       ['5.6', '2.8', '4.9', '2.0', 'Iris-virginica'],\n",
       "       ['7.7', '2.8', '6.7', '2.0', 'Iris-virginica'],\n",
       "       ['6.3', '2.7', '4.9', '1.8', 'Iris-virginica'],\n",
       "       ['6.7', '3.3', '5.7', '2.1', 'Iris-virginica'],\n",
       "       ['7.2', '3.2', '6.0', '1.8', 'Iris-virginica'],\n",
       "       ['6.2', '2.8', '4.8', '1.8', 'Iris-virginica'],\n",
       "       ['6.1', '3.0', '4.9', '1.8', 'Iris-virginica'],\n",
       "       ['6.4', '2.8', '5.6', '2.1', 'Iris-virginica'],\n",
       "       ['7.2', '3.0', '5.8', '1.6', 'Iris-virginica'],\n",
       "       ['7.4', '2.8', '6.1', '1.9', 'Iris-virginica'],\n",
       "       ['7.9', '3.8', '6.4', '2.0', 'Iris-virginica'],\n",
       "       ['6.4', '2.8', '5.6', '2.2', 'Iris-virginica'],\n",
       "       ['6.3', '2.8', '5.1', '1.5', 'Iris-virginica'],\n",
       "       ['6.1', '2.6', '5.6', '1.4', 'Iris-virginica'],\n",
       "       ['7.7', '3.0', '6.1', '2.3', 'Iris-virginica'],\n",
       "       ['6.3', '3.4', '5.6', '2.4', 'Iris-virginica'],\n",
       "       ['6.4', '3.1', '5.5', '1.8', 'Iris-virginica'],\n",
       "       ['6.0', '3.0', '4.8', '1.8', 'Iris-virginica'],\n",
       "       ['6.9', '3.1', '5.4', '2.1', 'Iris-virginica'],\n",
       "       ['6.7', '3.1', '5.6', '2.4', 'Iris-virginica'],\n",
       "       ['6.9', '3.1', '5.1', '2.3', 'Iris-virginica'],\n",
       "       ['5.8', '2.7', '5.1', '1.9', 'Iris-virginica'],\n",
       "       ['6.8', '3.2', '5.9', '2.3', 'Iris-virginica'],\n",
       "       ['6.7', '3.3', '5.7', '2.5', 'Iris-virginica'],\n",
       "       ['6.7', '3.0', '5.2', '2.3', 'Iris-virginica'],\n",
       "       ['6.3', '2.5', '5.0', '1.9', 'Iris-virginica'],\n",
       "       ['6.5', '3.0', '5.2', '2.0', 'Iris-virginica'],\n",
       "       ['6.2', '3.4', '5.4', '2.3', 'Iris-virginica'],\n",
       "       ['5.9', '3.0', '5.1', '1.8', 'Iris-virginica']], dtype='<U32')"
      ]
     },
     "execution_count": 13,
     "metadata": {},
     "output_type": "execute_result"
    }
   ],
   "source": [
    "# 44\n",
    "iris = np.hstack([iris[:, :4].astype(float), iris[:, -1].astype(str).reshape(iris.shape[0], 1)])\n",
    "iris"
   ]
  },
  {
   "cell_type": "code",
   "execution_count": 15,
   "metadata": {},
   "outputs": [
    {
     "data": {
      "text/plain": [
       "array([['4.3', '3.0', '1.1', '0.1', 'Iris-setosa'],\n",
       "       ['4.4', '3.2', '1.3', '0.2', 'Iris-setosa'],\n",
       "       ['4.4', '3.0', '1.3', '0.2', 'Iris-setosa'],\n",
       "       ['4.4', '2.9', '1.4', '0.2', 'Iris-setosa'],\n",
       "       ['4.5', '2.3', '1.3', '0.3', 'Iris-setosa'],\n",
       "       ['4.6', '3.6', '1.0', '0.2', 'Iris-setosa'],\n",
       "       ['4.6', '3.1', '1.5', '0.2', 'Iris-setosa'],\n",
       "       ['4.6', '3.4', '1.4', '0.3', 'Iris-setosa'],\n",
       "       ['4.6', '3.2', '1.4', '0.2', 'Iris-setosa'],\n",
       "       ['4.7', '3.2', '1.3', '0.2', 'Iris-setosa'],\n",
       "       ['4.7', '3.2', '1.6', '0.2', 'Iris-setosa'],\n",
       "       ['4.8', '3.0', '1.4', '0.1', 'Iris-setosa'],\n",
       "       ['4.8', '3.0', '1.4', '0.3', 'Iris-setosa'],\n",
       "       ['4.8', '3.4', '1.9', '0.2', 'Iris-setosa'],\n",
       "       ['4.8', '3.4', '1.6', '0.2', 'Iris-setosa'],\n",
       "       ['4.8', '3.1', '1.6', '0.2', 'Iris-setosa'],\n",
       "       ['4.9', '2.4', '3.3', '1.0', 'Iris-versicolor'],\n",
       "       ['4.9', '2.5', '4.5', '1.7', 'Iris-virginica'],\n",
       "       ['4.9', '3.1', '1.5', '0.1', 'Iris-setosa'],\n",
       "       ['4.9', '3.1', '1.5', '0.1', 'Iris-setosa'],\n",
       "       ['4.9', '3.1', '1.5', '0.1', 'Iris-setosa'],\n",
       "       ['4.9', '3.0', '1.4', '0.2', 'Iris-setosa'],\n",
       "       ['5.0', '3.5', '1.3', '0.3', 'Iris-setosa'],\n",
       "       ['5.0', '3.4', '1.6', '0.4', 'Iris-setosa'],\n",
       "       ['5.0', '3.3', '1.4', '0.2', 'Iris-setosa'],\n",
       "       ['5.0', '3.2', '1.2', '0.2', 'Iris-setosa'],\n",
       "       ['5.0', '3.5', '1.6', '0.6', 'Iris-setosa'],\n",
       "       ['5.0', '2.0', '3.5', '1.0', 'Iris-versicolor'],\n",
       "       ['5.0', '3.4', '1.5', '0.2', 'Iris-setosa'],\n",
       "       ['5.0', '2.3', '3.3', '1.0', 'Iris-versicolor'],\n",
       "       ['5.0', '3.6', '1.4', '0.2', 'Iris-setosa'],\n",
       "       ['5.0', '3.0', '1.6', '0.2', 'Iris-setosa'],\n",
       "       ['5.1', '3.8', '1.9', '0.4', 'Iris-setosa'],\n",
       "       ['5.1', '3.8', '1.6', '0.2', 'Iris-setosa'],\n",
       "       ['5.1', '2.5', '3.0', '1.1', 'Iris-versicolor'],\n",
       "       ['5.1', '3.5', '1.4', '0.2', 'Iris-setosa'],\n",
       "       ['5.1', '3.4', '1.5', '0.2', 'Iris-setosa'],\n",
       "       ['5.1', '3.5', '1.4', '0.3', 'Iris-setosa'],\n",
       "       ['5.1', '3.3', '1.7', '0.5', 'Iris-setosa'],\n",
       "       ['5.1', '3.7', '1.5', '0.4', 'Iris-setosa'],\n",
       "       ['5.1', '3.8', '1.5', '0.3', 'Iris-setosa'],\n",
       "       ['5.2', '4.1', '1.5', '0.1', 'Iris-setosa'],\n",
       "       ['5.2', '3.4', '1.4', '0.2', 'Iris-setosa'],\n",
       "       ['5.2', '3.5', '1.5', '0.2', 'Iris-setosa'],\n",
       "       ['5.2', '2.7', '3.9', '1.4', 'Iris-versicolor'],\n",
       "       ['5.3', '3.7', '1.5', '0.2', 'Iris-setosa'],\n",
       "       ['5.4', '3.0', '4.5', '1.5', 'Iris-versicolor'],\n",
       "       ['5.4', '3.9', '1.7', '0.4', 'Iris-setosa'],\n",
       "       ['5.4', '3.4', '1.7', '0.2', 'Iris-setosa'],\n",
       "       ['5.4', '3.4', '1.5', '0.4', 'Iris-setosa'],\n",
       "       ['5.4', '3.7', '1.5', '0.2', 'Iris-setosa'],\n",
       "       ['5.4', '3.9', '1.3', '0.4', 'Iris-setosa'],\n",
       "       ['5.5', '3.5', '1.3', '0.2', 'Iris-setosa'],\n",
       "       ['5.5', '2.6', '4.4', '1.2', 'Iris-versicolor'],\n",
       "       ['5.5', '4.2', '1.4', '0.2', 'Iris-setosa'],\n",
       "       ['5.5', '2.3', '4.0', '1.3', 'Iris-versicolor'],\n",
       "       ['5.5', '2.4', '3.7', '1.0', 'Iris-versicolor'],\n",
       "       ['5.5', '2.4', '3.8', '1.1', 'Iris-versicolor'],\n",
       "       ['5.5', '2.5', '4.0', '1.3', 'Iris-versicolor'],\n",
       "       ['5.6', '3.0', '4.1', '1.3', 'Iris-versicolor'],\n",
       "       ['5.6', '2.8', '4.9', '2.0', 'Iris-virginica'],\n",
       "       ['5.6', '3.0', '4.5', '1.5', 'Iris-versicolor'],\n",
       "       ['5.6', '2.5', '3.9', '1.1', 'Iris-versicolor'],\n",
       "       ['5.6', '2.7', '4.2', '1.3', 'Iris-versicolor'],\n",
       "       ['5.6', '2.9', '3.6', '1.3', 'Iris-versicolor'],\n",
       "       ['5.7', '2.6', '3.5', '1.0', 'Iris-versicolor'],\n",
       "       ['5.7', '2.9', '4.2', '1.3', 'Iris-versicolor'],\n",
       "       ['5.7', '2.8', '4.1', '1.3', 'Iris-versicolor'],\n",
       "       ['5.7', '4.4', '1.5', '0.4', 'Iris-setosa'],\n",
       "       ['5.7', '2.8', '4.5', '1.3', 'Iris-versicolor'],\n",
       "       ['5.7', '2.5', '5.0', '2.0', 'Iris-virginica'],\n",
       "       ['5.7', '3.8', '1.7', '0.3', 'Iris-setosa'],\n",
       "       ['5.7', '3.0', '4.2', '1.2', 'Iris-versicolor'],\n",
       "       ['5.8', '2.7', '4.1', '1.0', 'Iris-versicolor'],\n",
       "       ['5.8', '4.0', '1.2', '0.2', 'Iris-setosa'],\n",
       "       ['5.8', '2.6', '4.0', '1.2', 'Iris-versicolor'],\n",
       "       ['5.8', '2.8', '5.1', '2.4', 'Iris-virginica'],\n",
       "       ['5.8', '2.7', '5.1', '1.9', 'Iris-virginica'],\n",
       "       ['5.8', '2.7', '3.9', '1.2', 'Iris-versicolor'],\n",
       "       ['5.8', '2.7', '5.1', '1.9', 'Iris-virginica'],\n",
       "       ['5.9', '3.0', '5.1', '1.8', 'Iris-virginica'],\n",
       "       ['5.9', '3.0', '4.2', '1.5', 'Iris-versicolor'],\n",
       "       ['5.9', '3.2', '4.8', '1.8', 'Iris-versicolor'],\n",
       "       ['6.0', '2.9', '4.5', '1.5', 'Iris-versicolor'],\n",
       "       ['6.0', '2.7', '5.1', '1.6', 'Iris-versicolor'],\n",
       "       ['6.0', '3.0', '4.8', '1.8', 'Iris-virginica'],\n",
       "       ['6.0', '3.4', '4.5', '1.6', 'Iris-versicolor'],\n",
       "       ['6.0', '2.2', '4.0', '1.0', 'Iris-versicolor'],\n",
       "       ['6.0', '2.2', '5.0', '1.5', 'Iris-virginica'],\n",
       "       ['6.1', '3.0', '4.9', '1.8', 'Iris-virginica'],\n",
       "       ['6.1', '2.6', '5.6', '1.4', 'Iris-virginica'],\n",
       "       ['6.1', '2.8', '4.0', '1.3', 'Iris-versicolor'],\n",
       "       ['6.1', '2.9', '4.7', '1.4', 'Iris-versicolor'],\n",
       "       ['6.1', '2.8', '4.7', '1.2', 'Iris-versicolor'],\n",
       "       ['6.1', '3.0', '4.6', '1.4', 'Iris-versicolor'],\n",
       "       ['6.2', '2.2', '4.5', '1.5', 'Iris-versicolor'],\n",
       "       ['6.2', '2.9', '4.3', '1.3', 'Iris-versicolor'],\n",
       "       ['6.2', '3.4', '5.4', '2.3', 'Iris-virginica'],\n",
       "       ['6.2', '2.8', '4.8', '1.8', 'Iris-virginica'],\n",
       "       ['6.3', '2.5', '4.9', '1.5', 'Iris-versicolor'],\n",
       "       ['6.3', '2.7', '4.9', '1.8', 'Iris-virginica'],\n",
       "       ['6.3', '2.5', '5.0', '1.9', 'Iris-virginica'],\n",
       "       ['6.3', '3.3', '4.7', '1.6', 'Iris-versicolor'],\n",
       "       ['6.3', '2.8', '5.1', '1.5', 'Iris-virginica'],\n",
       "       ['6.3', '3.3', '6.0', '2.5', 'Iris-virginica'],\n",
       "       ['6.3', '2.3', '4.4', '1.3', 'Iris-versicolor'],\n",
       "       ['6.3', '3.4', '5.6', '2.4', 'Iris-virginica'],\n",
       "       ['6.3', '2.9', '5.6', '1.8', 'Iris-virginica'],\n",
       "       ['6.4', '2.8', '5.6', '2.2', 'Iris-virginica'],\n",
       "       ['6.4', '2.8', '5.6', '2.1', 'Iris-virginica'],\n",
       "       ['6.4', '3.1', '5.5', '1.8', 'Iris-virginica'],\n",
       "       ['6.4', '3.2', '4.5', '1.5', 'Iris-versicolor'],\n",
       "       ['6.4', '3.2', '5.3', '2.3', 'Iris-virginica'],\n",
       "       ['6.4', '2.9', '4.3', '1.3', 'Iris-versicolor'],\n",
       "       ['6.4', '2.7', '5.3', '1.9', 'Iris-virginica'],\n",
       "       ['6.5', '3.0', '5.8', '2.2', 'Iris-virginica'],\n",
       "       ['6.5', '3.0', '5.5', '1.8', 'Iris-virginica'],\n",
       "       ['6.5', '3.0', '5.2', '2.0', 'Iris-virginica'],\n",
       "       ['6.5', '2.8', '4.6', '1.5', 'Iris-versicolor'],\n",
       "       ['6.5', '3.2', '5.1', '2.0', 'Iris-virginica'],\n",
       "       ['6.6', '2.9', '4.6', '1.3', 'Iris-versicolor'],\n",
       "       ['6.6', '3.0', '4.4', '1.4', 'Iris-versicolor'],\n",
       "       ['6.7', '3.1', '4.7', '1.5', 'Iris-versicolor'],\n",
       "       ['6.7', '3.1', '5.6', '2.4', 'Iris-virginica'],\n",
       "       ['6.7', '2.5', '5.8', '1.8', 'Iris-virginica'],\n",
       "       ['6.7', '3.0', '5.0', '1.7', 'Iris-versicolor'],\n",
       "       ['6.7', '3.1', '4.4', '1.4', 'Iris-versicolor'],\n",
       "       ['6.7', '3.3', '5.7', '2.5', 'Iris-virginica'],\n",
       "       ['6.7', '3.0', '5.2', '2.3', 'Iris-virginica'],\n",
       "       ['6.7', '3.3', '5.7', '2.1', 'Iris-virginica'],\n",
       "       ['6.8', '3.2', '5.9', '2.3', 'Iris-virginica'],\n",
       "       ['6.8', '2.8', '4.8', '1.4', 'Iris-versicolor'],\n",
       "       ['6.8', '3.0', '5.5', '2.1', 'Iris-virginica'],\n",
       "       ['6.9', '3.1', '5.4', '2.1', 'Iris-virginica'],\n",
       "       ['6.9', '3.1', '5.1', '2.3', 'Iris-virginica'],\n",
       "       ['6.9', '3.1', '4.9', '1.5', 'Iris-versicolor'],\n",
       "       ['6.9', '3.2', '5.7', '2.3', 'Iris-virginica'],\n",
       "       ['7.0', '3.2', '4.7', '1.4', 'Iris-versicolor'],\n",
       "       ['7.1', '3.0', '5.9', '2.1', 'Iris-virginica'],\n",
       "       ['7.2', '3.0', '5.8', '1.6', 'Iris-virginica'],\n",
       "       ['7.2', '3.2', '6.0', '1.8', 'Iris-virginica'],\n",
       "       ['7.2', '3.6', '6.1', '2.5', 'Iris-virginica'],\n",
       "       ['7.3', '2.9', '6.3', '1.8', 'Iris-virginica'],\n",
       "       ['7.4', '2.8', '6.1', '1.9', 'Iris-virginica'],\n",
       "       ['7.6', '3.0', '6.6', '2.1', 'Iris-virginica'],\n",
       "       ['7.7', '2.8', '6.7', '2.0', 'Iris-virginica'],\n",
       "       ['7.7', '2.6', '6.9', '2.3', 'Iris-virginica'],\n",
       "       ['7.7', '3.8', '6.7', '2.2', 'Iris-virginica'],\n",
       "       ['7.7', '3.0', '6.1', '2.3', 'Iris-virginica'],\n",
       "       ['7.9', '3.8', '6.4', '2.0', 'Iris-virginica']], dtype='<U32')"
      ]
     },
     "execution_count": 15,
     "metadata": {},
     "output_type": "execute_result"
    }
   ],
   "source": [
    "sorted_iris = iris[iris[:, 0].argsort()]\n",
    "sorted_iris"
   ]
  },
  {
   "cell_type": "markdown",
   "metadata": {},
   "source": [
    "## exercise 45"
   ]
  },
  {
   "cell_type": "code",
   "execution_count": 20,
   "metadata": {},
   "outputs": [
    {
     "data": {
      "text/plain": [
       "'1.5'"
      ]
     },
     "execution_count": 20,
     "metadata": {},
     "output_type": "execute_result"
    }
   ],
   "source": [
    "# most frequent value of 3rd column\n",
    "import scipy.stats as st\n",
    "st.mode(iris[:, 2]).mode[0]"
   ]
  },
  {
   "cell_type": "markdown",
   "metadata": {},
   "source": [
    "## exercise 46"
   ]
  },
  {
   "cell_type": "code",
   "execution_count": 21,
   "metadata": {},
   "outputs": [
    {
     "data": {
      "text/plain": [
       "array([50])"
      ]
     },
     "execution_count": 21,
     "metadata": {},
     "output_type": "execute_result"
    }
   ],
   "source": [
    "# Q. Find the position of the first occurrence of a value greater than 1.0 \n",
    "# in petalwidth 4th column of iris dataset.\n",
    "np.argwhere(iris[:, 3].astype(float) > 1.0)[0]"
   ]
  },
  {
   "cell_type": "markdown",
   "metadata": {},
   "source": [
    "## exercise 47"
   ]
  },
  {
   "cell_type": "code",
   "execution_count": 22,
   "metadata": {},
   "outputs": [],
   "source": [
    "# Q. From the array a, replace all values greater than 30 to 30 and less than 10 to 10.\n",
    "np.random.seed(100)\n",
    "a = np.random.uniform(1,50, 20)\n",
    "a[a < 10] = 10\n",
    "a[a > 30] = 30"
   ]
  },
  {
   "cell_type": "markdown",
   "metadata": {},
   "source": [
    "## exercise 48"
   ]
  },
  {
   "cell_type": "code",
   "execution_count": 23,
   "metadata": {},
   "outputs": [
    {
     "data": {
      "text/plain": [
       "array([18,  7,  3, 10, 15])"
      ]
     },
     "execution_count": 23,
     "metadata": {},
     "output_type": "execute_result"
    }
   ],
   "source": [
    "# Q. Get the positions of top 5 maximum values in a given array a.\n",
    "np.random.seed(100)\n",
    "a = np.random.uniform(1,50, 20)\n",
    "np.argsort(a)[-5:]"
   ]
  },
  {
   "cell_type": "markdown",
   "metadata": {},
   "source": [
    "## exercise 49"
   ]
  },
  {
   "cell_type": "code",
   "execution_count": 26,
   "metadata": {},
   "outputs": [
    {
     "data": {
      "text/plain": [
       "(array([[ 1,  3,  3,  4,  5,  6,  8,  8,  9,  9],\n",
       "        [ 5,  3, 10,  2,  1,  7,  1,  9,  3,  3],\n",
       "        [ 5,  2,  8,  6,  4,  2,  4,  5,  2,  5],\n",
       "        [10,  9,  3,  1,  4,  6,  3, 10,  8,  8],\n",
       "        [ 1,  2,  3,  8,  9,  6,  7,  3,  1,  2],\n",
       "        [ 9, 10,  6,  6,  4,  1,  5,  3,  2,  9]]),\n",
       " array([1, 1, 1, 1, 1, 1, 1, 1, 1, 1]))"
      ]
     },
     "execution_count": 26,
     "metadata": {},
     "output_type": "execute_result"
    }
   ],
   "source": [
    "# Q. Compute the counts of unique values row-wise.\n",
    "np.random.seed(100)\n",
    "arr = np.random.randint(1,11,size=(6, 10))\n",
    "np.unique(arr, axis=1, return_counts=True)"
   ]
  },
  {
   "cell_type": "markdown",
   "metadata": {},
   "source": [
    "## exercise 50"
   ]
  },
  {
   "cell_type": "code",
   "execution_count": 27,
   "metadata": {},
   "outputs": [
    {
     "name": "stderr",
     "output_type": "stream",
     "text": [
      "/home/ali/anaconda3/lib/python3.7/site-packages/ipykernel_launcher.py:7: VisibleDeprecationWarning: Creating an ndarray from ragged nested sequences (which is a list-or-tuple of lists-or-tuples-or ndarrays with different lengths or shapes) is deprecated. If you meant to do this, you must specify 'dtype=object' when creating the ndarray.\n",
      "  import sys\n"
     ]
    },
    {
     "data": {
      "text/plain": [
       "array([array([0, 1, 2]), array([3, 4, 5, 6]), array([7, 8, 9])],\n",
       "      dtype=object)"
      ]
     },
     "execution_count": 27,
     "metadata": {},
     "output_type": "execute_result"
    }
   ],
   "source": [
    "# Q. Convert array_of_arrays into a flat linear 1d array.\n",
    "\n",
    "arr1 = np.arange(3)\n",
    "arr2 = np.arange(3,7)\n",
    "arr3 = np.arange(7,10)\n",
    "\n",
    "array_of_arrays = np.array([arr1, arr2, arr3])\n",
    "array_of_arrays"
   ]
  },
  {
   "cell_type": "code",
   "execution_count": 31,
   "metadata": {},
   "outputs": [
    {
     "data": {
      "text/plain": [
       "array([0, 1, 2, 3, 4, 5, 6, 7, 8, 9])"
      ]
     },
     "execution_count": 31,
     "metadata": {},
     "output_type": "execute_result"
    }
   ],
   "source": [
    "np.hstack(array_of_arrays)"
   ]
  }
 ],
 "metadata": {
  "kernelspec": {
   "display_name": "Python 3",
   "language": "python",
   "name": "python3"
  },
  "language_info": {
   "codemirror_mode": {
    "name": "ipython",
    "version": 3
   },
   "file_extension": ".py",
   "mimetype": "text/x-python",
   "name": "python",
   "nbconvert_exporter": "python",
   "pygments_lexer": "ipython3",
   "version": "3.7.0"
  }
 },
 "nbformat": 4,
 "nbformat_minor": 2
}
